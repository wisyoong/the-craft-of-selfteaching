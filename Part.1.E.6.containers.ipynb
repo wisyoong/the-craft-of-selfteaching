{
  "cells": [
    {
      "cell_type": "markdown",
      "source": [
        "# 数据容器"
      ],
      "metadata": {
        "button": false,
        "deletable": true,
        "new_sheet": false,
        "run_control": {
          "read_only": false
        },
        "toc-hr-collapsed": false
      }
    },
    {
      "cell_type": "markdown",
      "source": [
        "在 Python 中，有个**数据容器**（Container）的概念。\n",
        "\n",
        "其中包括**字符串**、由 `range()` 函数生成的**等差数列**、**列表**（List）、**元组**（Tuple）、**集合**（Set）、**字典**（Dictionary）。\n",
        "\n",
        "这些容器，各有各的用处。其中又分为*可变*容器（Mutable）和*不可变*容器（Immutable）。可变的有列表、集合、字典；不可变的有字符串、`range()` 生成的等差数列、元组。集合，又分为 *Set* 和 *Frozen Set*；其中，Set 是*可变的*，Frozen Set 是*不可变的*。\n",
        "\n",
        "字符串、由 `range()` 函数生成的等差数列、列表、元组是**有序类型**（Sequence Type），而集合与字典是*无序*的。\n",
        "\n",
        "![](images/python-containers-final.png)\n",
        "\n",
        "另外，集合没有*重合*元素。"
      ],
      "metadata": {
        "button": false,
        "deletable": true,
        "new_sheet": false,
        "run_control": {
          "read_only": false
        }
      }
    },
    {
      "cell_type": "markdown",
      "source": [
        "## 迭代（Iterate）"
      ],
      "metadata": {
        "button": false,
        "deletable": true,
        "new_sheet": false,
        "run_control": {
          "read_only": false
        }
      }
    },
    {
      "cell_type": "markdown",
      "source": [
        "数据容器里的元素是可以被**迭代的**（Iterable），它们其中包含的元素，可以被逐个访问，以便被处理。\n",
        "\n",
        "对于数据容器，有一个操作符，`in`，用来判断某个元素是否属于某个容器。\n",
        "\n",
        "由于数据容器的可迭代性，再加上这个操作符 `in`，在 Python 语言里写循环格外容易且方便（以字符串这个字符的容器作为例子）："
      ],
      "metadata": {
        "button": false,
        "deletable": true,
        "new_sheet": false,
        "run_control": {
          "read_only": false
        }
      }
    },
    {
      "cell_type": "code",
      "source": [
        "for c in 'Python':\n",
        "  print(c)"
      ],
      "outputs": [
        {
          "output_type": "stream",
          "name": "stdout",
          "text": [
            "P\n",
            "y\n",
            "t\n",
            "h\n",
            "o\n",
            "n\n"
          ]
        }
      ],
      "execution_count": 1,
      "metadata": {
        "button": false,
        "collapsed": false,
        "deletable": true,
        "new_sheet": false,
        "run_control": {
          "read_only": false
        }
      }
    },
    {
      "cell_type": "code",
      "source": [
        "for c in 'Python':\n",
        "    print(c)"
      ],
      "outputs": [
        {
          "output_type": "stream",
          "name": "stdout",
          "text": [
            "P\n",
            "y\n",
            "t\n",
            "h\n",
            "o\n",
            "n\n"
          ]
        }
      ],
      "execution_count": 1,
      "metadata": {
        "button": false,
        "collapsed": false,
        "deletable": true,
        "new_sheet": false,
        "run_control": {
          "read_only": false
        }
      }
    },
    {
      "cell_type": "markdown",
      "source": [
        "在 Python 出现之前，想要完成这样一个访问字符串中的每一个字符的循环，大抵上应该是这样的（比如 C 语言）：\n",
        "\n",
        "``` C\n",
        "# Written in C\n",
        "char *string;\n",
        "\n",
        "scanf(\"%s\",string); \n",
        "int i=strlen(string);\n",
        "int k = 0;\n",
        "while(k<i){    \n",
        "      printf(\"%c\", string[k]);\n",
        "      k++;    \n",
        "  }\n",
        " ```\n",
        " \n",
        " 在 Python 中，简单的 for 循环，只需要指定一个次数就可以了，因为有 range() 这个函数："
      ],
      "metadata": {
        "button": false,
        "deletable": true,
        "new_sheet": false,
        "run_control": {
          "read_only": false
        }
      }
    },
    {
      "cell_type": "code",
      "source": [
        "for i in range(10):\n",
        "  print(i)"
      ],
      "outputs": [
        {
          "output_type": "stream",
          "name": "stdout",
          "text": [
            "0\n",
            "1\n",
            "2\n",
            "3\n",
            "4\n",
            "5\n",
            "6\n",
            "7\n",
            "8\n",
            "9\n"
          ]
        }
      ],
      "execution_count": 2,
      "metadata": {
        "button": false,
        "collapsed": false,
        "deletable": true,
        "new_sheet": false,
        "run_control": {
          "read_only": false
        }
      }
    },
    {
      "cell_type": "code",
      "source": [
        "for i in range(10):\n",
        "    print(i)"
      ],
      "outputs": [
        {
          "output_type": "stream",
          "name": "stdout",
          "text": [
            "0\n",
            "1\n",
            "2\n",
            "3\n",
            "4\n",
            "5\n",
            "6\n",
            "7\n",
            "8\n",
            "9\n"
          ]
        }
      ],
      "execution_count": 2,
      "metadata": {
        "button": false,
        "collapsed": false,
        "deletable": true,
        "new_sheet": false,
        "run_control": {
          "read_only": false
        }
      }
    },
    {
      "cell_type": "markdown",
      "source": [
        "即便是用比 C 更为 “现代” 一点的 JavaScript，也大抵上应该是这样的：\n",
        "\n",
        "```c\n",
        "var i;\n",
        "for (i = 0; i < 10; i++) { \n",
        "  console.log(i)\n",
        "}\n",
        "```"
      ],
      "metadata": {
        "button": false,
        "deletable": true,
        "new_sheet": false,
        "run_control": {
          "read_only": false
        }
      }
    },
    {
      "cell_type": "markdown",
      "source": [
        "当然，有时候我们也需要比较复杂的计数器，不过，Python 也不只有 `for` 循环，还有 `while` 循环，在必要的时候可以写复杂的计数器。"
      ],
      "metadata": {
        "button": false,
        "deletable": true,
        "new_sheet": false,
        "run_control": {
          "read_only": false
        }
      }
    },
    {
      "cell_type": "markdown",
      "source": [
        "## 列表（List）"
      ],
      "metadata": {
        "button": false,
        "deletable": true,
        "new_sheet": false,
        "run_control": {
          "read_only": false
        },
        "toc-hr-collapsed": true,
        "toc-nb-collapsed": true
      }
    },
    {
      "cell_type": "markdown",
      "source": [
        "列表和字符串一样，是个*有序类型*（Sequence Type）的容器，其中包含着有索引编号的元素。\n",
        "\n",
        "列表中的元素可以是不同类型。不过，在解决现实问题的时候，我们总是倾向于创建由同一个类型的数据构成的列表。遇到由不同类型数据构成的列表，我们更可能做的是想办法把不同类型的数据分门别类地拆分出来，整理清楚 —— 这种工作甚至有个专门的名称与之关联：*数据清洗*。"
      ],
      "metadata": {
        "button": false,
        "deletable": true,
        "new_sheet": false,
        "run_control": {
          "read_only": false
        }
      }
    },
    {
      "cell_type": "markdown",
      "source": [
        "### 列表的生成"
      ],
      "metadata": {
        "button": false,
        "deletable": true,
        "new_sheet": false,
        "run_control": {
          "read_only": false
        }
      }
    },
    {
      "cell_type": "markdown",
      "source": [
        "生成一个列表，有以下几种方式：\n",
        "\n",
        "\n",
        "```python\n",
        "a_list = []\n",
        "b_list = [1, 2, 3]\n",
        "list(), or list(iterable)            # 这是 Type Casting\n",
        "[(expression with x) for x in iterable]\n",
        "```"
      ],
      "metadata": {
        "button": false,
        "deletable": true,
        "new_sheet": false,
        "run_control": {
          "read_only": false
        }
      }
    },
    {
      "cell_type": "code",
      "source": [
        "a_list = []\n",
        "a_list.append(1)\n",
        "a_list.append(2)\n",
        "print(a_list, f'has a length of {len(a_list)}.')\n",
        "\n",
        "#range() 返回的不是 list，需要用 list() 转换，否则也没办法调用 .append()\n",
        "b_list = list(range(1, 9))\n",
        "b_list.append(11)\n",
        "print(b_list, f'has a length of {len(b_list)}.')\n",
        "\n",
        "\n",
        "c_list = [2**x for x in range(8)]\n",
        "print(c_list, f'has a length of {len(c_list)}.')"
      ],
      "outputs": [
        {
          "output_type": "stream",
          "name": "stdout",
          "text": [
            "[1, 2] has a length of 2.\n",
            "[1, 2, 3, 4, 5, 6, 7, 8, 11] has a length of 9.\n",
            "[1, 2, 4, 8, 16, 32, 64, 128] has a length of 8.\n"
          ]
        }
      ],
      "execution_count": 3,
      "metadata": {
        "button": false,
        "collapsed": false,
        "deletable": true,
        "new_sheet": false,
        "run_control": {
          "read_only": false
        }
      }
    },
    {
      "cell_type": "code",
      "source": [
        "a_list=[]\n",
        "a_list.append(1)\n",
        "a_list.append(2)\n",
        "print(a_list,f'has alength of{len(a_list)}.')\n",
        "\n",
        "b_list=list(range(1,9))\n",
        "b_list.append(11)\n",
        "print(b_list,f'has a length of {len(b_list)}.')\n",
        "\n",
        "c_list=[2**x for x in range(8)]\n",
        "print(c_list,f'has a length of {len(c_list)}.')"
      ],
      "outputs": [
        {
          "output_type": "stream",
          "name": "stdout",
          "text": [
            "[1, 2] has alength of2.\n",
            "[1, 2, 3, 4, 5, 6, 7, 8, 11] has a length of 9.\n",
            "[1, 2, 4, 8, 16, 32, 64, 128] has a length of 8.\n"
          ]
        }
      ],
      "execution_count": 79,
      "metadata": {
        "collapsed": true,
        "jupyter": {
          "source_hidden": false,
          "outputs_hidden": false
        },
        "nteract": {
          "transient": {
            "deleting": false
          }
        },
        "execution": {
          "iopub.status.busy": "2020-06-05T02:52:32.710Z",
          "iopub.execute_input": "2020-06-05T02:52:32.731Z",
          "iopub.status.idle": "2020-06-05T02:52:32.775Z",
          "shell.execute_reply": "2020-06-05T02:52:32.796Z"
        }
      }
    },
    {
      "cell_type": "markdown",
      "source": [
        "这最后一种方式颇为神奇：\n",
        "\n",
        "```python\n",
        "[2**x for x in range(8)]\n",
        "```\n",
        "\n",
        "这种做法，叫做 **[List Comprehension](https://docs.python.org/3.7/tutorial/datastructures.html#tut-listcomps)**。\n",
        "\n",
        "*Comprehend* 这个词的意思除了 “理解” 之外，还有另外一个意思，就是 “包括、囊括” —— 这样的话，你就大概能理解这种做法为什么被称作 *List Comprehension* 了。中文翻译中，怎么翻译的都有，“列表生成器”、“列表生成式” 等等，都挺好。但是，被翻译成 “列表解析器”，就不太好了，给人的感觉是操作反了……\n",
        "\n",
        "List comprehension 可以嵌套使用 `for`，甚至可以加上条件 `if`。官方文档里有个例子，是用来把两个元素并不完全相同的列表去同后拼成一个列表（下面稍作了改写）：\n"
      ],
      "metadata": {
        "button": false,
        "deletable": true,
        "new_sheet": false,
        "run_control": {
          "read_only": false
        }
      }
    },
    {
      "cell_type": "code",
      "source": [
        "import random\n",
        "\n",
        "n = 10 \n",
        "\n",
        "# 生成一个 n 个元素的序列，每个元素是 1~100 之间的随机数\n",
        "a_list = [random.randrange(1, 100) for i in range(n)]\n",
        "print(f'a_list comprehends {len(a_list)} random numbers: {a_list}')\n",
        "\n",
        "# 从 a_list 里把偶数都挑出来\n",
        "b_list = [x for x in a_list if x % 2 == 0]\n",
        "print(f'... and it has {len(b_list)} even numbers: {b_list}')"
      ],
      "outputs": [
        {
          "output_type": "stream",
          "name": "stdout",
          "text": [
            "a_list comprehends 10 random numbers: [52, 34, 7, 96, 33, 79, 95, 18, 37, 46]\n",
            "... and it has 5 even numbers: [52, 34, 96, 18, 46]\n"
          ]
        }
      ],
      "execution_count": 4,
      "metadata": {
        "button": false,
        "collapsed": false,
        "deletable": true,
        "new_sheet": false,
        "run_control": {
          "read_only": false
        }
      }
    },
    {
      "cell_type": "code",
      "source": [
        "import random\n",
        "\n",
        "n=10\n",
        "\n",
        "a_list=[random.randrange(1,100) for i in range(n)]\n",
        "print(f'a_list comprehends{len(a_list)} random numbers:{a_list}')\n",
        "\n",
        "b_list=[x for x in a_list if x % 2 ==0]\n",
        "print(f'...and it has {len(b_list)} even numbers:{b_list}')"
      ],
      "outputs": [
        {
          "output_type": "stream",
          "name": "stdout",
          "text": [
            "a_list comprehends10 random numbers:[66, 26, 72, 11, 51, 62, 81, 86, 32, 38]\n",
            "...and it has 7 even numbers:[66, 26, 72, 62, 86, 32, 38]\n"
          ]
        }
      ],
      "execution_count": 81,
      "metadata": {
        "collapsed": true,
        "jupyter": {
          "source_hidden": false,
          "outputs_hidden": false
        },
        "nteract": {
          "transient": {
            "deleting": false
          }
        },
        "execution": {
          "iopub.status.busy": "2020-06-05T03:09:03.902Z",
          "iopub.execute_input": "2020-06-05T03:09:03.929Z",
          "iopub.status.idle": "2020-06-05T03:09:03.982Z",
          "shell.execute_reply": "2020-06-05T03:09:04.006Z"
        }
      }
    },
    {
      "cell_type": "markdown",
      "source": [
        "### 列表的操作符"
      ],
      "metadata": {
        "button": false,
        "deletable": true,
        "new_sheet": false,
        "run_control": {
          "read_only": false
        }
      }
    },
    {
      "cell_type": "markdown",
      "source": [
        "列表的操作符和字符串一样，因为它们都是有序容器。列表的操作符有：\n",
        "\n",
        "> * 拼接：`+`（与字符串不一样的地方是，不能用空格 `' '` 了）\n",
        "> * 复制：`*`\n",
        "> * 逻辑运算：`in` 和 `not in`，`<`、`<=`、`>`、`>=`、`!=`、`==`\n",
        "\n",
        "而后两个列表也和两个字符串一样，可以被比较，即，可以进行逻辑运算；比较方式也跟字符串一样，从两个列表各自的第一个元素开始逐个比较，“一旦决出胜负马上停止”："
      ],
      "metadata": {
        "button": false,
        "deletable": true,
        "new_sheet": false,
        "run_control": {
          "read_only": false
        }
      }
    },
    {
      "cell_type": "code",
      "source": [
        "from IPython.core.interactiveshell import InteractiveShell\n",
        "InteractiveShell.ast_node_interactivity = \"all\"\n",
        "\n",
        "a_list = [1, 2, 3]\n",
        "b_list = [4, 5, 6]\n",
        "c_list = a_list + b_list * 3\n",
        "c_list\n",
        "7 not in c_list\n",
        "a_list > b_list"
      ],
      "outputs": [
        {
          "output_type": "execute_result",
          "execution_count": 2,
          "data": {
            "text/plain": [
              "[1, 2, 3, 4, 5, 6, 4, 5, 6, 4, 5, 6]"
            ]
          },
          "metadata": {}
        },
        {
          "output_type": "execute_result",
          "execution_count": 2,
          "data": {
            "text/plain": [
              "True"
            ]
          },
          "metadata": {}
        },
        {
          "output_type": "execute_result",
          "execution_count": 2,
          "data": {
            "text/plain": [
              "False"
            ]
          },
          "metadata": {}
        }
      ],
      "execution_count": 2,
      "metadata": {
        "button": false,
        "collapsed": false,
        "deletable": true,
        "new_sheet": false,
        "run_control": {
          "read_only": false
        }
      }
    },
    {
      "cell_type": "code",
      "source": [
        "from IPython.core.interactiveshell import InteractiveShell\n",
        "InteractiveShell.ast_node_interactivity = \"all\"\n",
        "\n",
        "a_list=[1,2,3]\n",
        "b_list=[4,5,6]\n",
        "c_list=a_list+b_list*3\n",
        "c_list\n",
        "7 not in c_list\n",
        "a_list>b_list"
      ],
      "outputs": [
        {
          "output_type": "execute_result",
          "execution_count": 82,
          "data": {
            "text/plain": [
              "[1, 2, 3, 4, 5, 6, 4, 5, 6, 4, 5, 6]"
            ]
          },
          "metadata": {}
        },
        {
          "output_type": "execute_result",
          "execution_count": 82,
          "data": {
            "text/plain": [
              "True"
            ]
          },
          "metadata": {}
        },
        {
          "output_type": "execute_result",
          "execution_count": 82,
          "data": {
            "text/plain": [
              "False"
            ]
          },
          "metadata": {}
        }
      ],
      "execution_count": 82,
      "metadata": {
        "collapsed": true,
        "jupyter": {
          "source_hidden": false,
          "outputs_hidden": false
        },
        "nteract": {
          "transient": {
            "deleting": false
          }
        },
        "execution": {
          "iopub.status.busy": "2020-06-05T03:12:41.789Z",
          "iopub.execute_input": "2020-06-05T03:12:41.815Z",
          "iopub.status.idle": "2020-06-05T03:12:41.895Z",
          "shell.execute_reply": "2020-06-05T03:12:41.918Z"
        }
      }
    },
    {
      "cell_type": "markdown",
      "source": [
        "### 根据索引提取列表元素"
      ],
      "metadata": {
        "button": false,
        "deletable": true,
        "new_sheet": false,
        "run_control": {
          "read_only": false
        }
      }
    },
    {
      "cell_type": "markdown",
      "source": [
        "列表当然也可以根据索引操作，但由于列表是可变序列，所以，不仅可以提取，还可以删除，甚至替换。"
      ],
      "metadata": {
        "button": false,
        "deletable": true,
        "new_sheet": false,
        "run_control": {
          "read_only": false
        }
      }
    },
    {
      "cell_type": "code",
      "source": [
        "import random\n",
        "n = 3 \n",
        "a_list = [random.randrange(65, 91) for i in range(n)]\n",
        "b_list = [chr(random.randrange(65, 91)) for i in range(n)]\n",
        "print(a_list)\n",
        "c_list = a_list + b_list + a_list * 2\n",
        "print(c_list)\n",
        "\n",
        "print()\n",
        "# 根据索引提取（Slicing）\n",
        "print(c_list[3])        # 返回索引值为 3 的元素值\n",
        "print(c_list[:])        # 相当于 c_list，返回整个列表\n",
        "print(c_list[5:])       # 从索引为 5 的值开始直到末尾\n",
        "print(c_list[:3])       # 从索引 0 开始，直到索引 3 之前（不包括 3）\n",
        "print(c_list[2:6])      # 从索引 2 开始，直到索引 6 之前（不包括 6）\n",
        "\n",
        "print()\n",
        "# 根据索引删除\n",
        "del c_list[3]\n",
        "print(c_list)           # del 是个命令，del c_list[3] 是一个语句；不能这么写：print(del c_list[3])\n",
        "del c_list[5:8]         \n",
        "print(c_list)\n",
        "\n",
        "print()\n",
        "# 根据索引替换\n",
        "c_list[1:5:2] = ['a', 2]  # s[start:stop:step] = t，跟 range 的三个参数类似；\n",
        "                         # len(t) = len([start:stop:step]) 必须为真\n",
        "print(c_list)"
      ],
      "outputs": [
        {
          "output_type": "stream",
          "name": "stdout",
          "text": [
            "[72, 66, 70]\n",
            "[72, 66, 70, 'X', 'K', 'H', 72, 66, 70, 72, 66, 70]\n",
            "\n",
            "X\n",
            "[72, 66, 70, 'X', 'K', 'H', 72, 66, 70, 72, 66, 70]\n",
            "['H', 72, 66, 70, 72, 66, 70]\n",
            "[72, 66, 70]\n",
            "[70, 'X', 'K', 'H']\n",
            "\n",
            "[72, 66, 70, 'K', 'H', 72, 66, 70, 72, 66, 70]\n",
            "[72, 66, 70, 'K', 'H', 72, 66, 70]\n",
            "\n",
            "[72, 'a', 70, 2, 'H', 72, 66, 70]\n"
          ]
        }
      ],
      "execution_count": 143,
      "metadata": {
        "button": false,
        "collapsed": false,
        "deletable": true,
        "new_sheet": false,
        "run_control": {
          "read_only": false
        },
        "execution": {
          "iopub.status.busy": "2020-06-05T03:38:38.303Z",
          "iopub.execute_input": "2020-06-05T03:38:38.332Z",
          "iopub.status.idle": "2020-06-05T03:38:38.384Z",
          "shell.execute_reply": "2020-06-05T03:38:38.409Z"
        }
      }
    },
    {
      "cell_type": "code",
      "source": [
        "import random \n",
        "n = 3\n",
        "a_list = [random.randrange(65,91) for i in range(n)]\n",
        "b_list = [chr(random.randrange(65,91))for i in range(n)]\n",
        "print(a_list)\n",
        "c_list = a_list+b_list+a_list*2\n",
        "print(c_list)\n",
        "\n",
        "print()\n",
        "print(c_list[3])\n",
        "print(c_list[:])\n",
        "print(c_list[5:])\n",
        "print(c_list[:3])\n",
        "print(c_list[2:6])\n",
        "\n",
        "print()\n",
        "print(c_list)\n",
        "del c_list[3]\n",
        "print(c_list)\n",
        "del c_list[5:8]\n",
        "print(c_list)\n",
        "\n",
        "print()\n",
        "c_list[1:5:2]=['a',2]\n",
        "print(c_list)\n",
        "print(c_list[1:5:2])"
      ],
      "outputs": [
        {
          "output_type": "stream",
          "name": "stdout",
          "text": [
            "[87, 69, 82]\n",
            "[87, 69, 82, 'K', 'I', 'W', 87, 69, 82, 87, 69, 82]\n",
            "\n",
            "K\n",
            "[87, 69, 82, 'K', 'I', 'W', 87, 69, 82, 87, 69, 82]\n",
            "['W', 87, 69, 82, 87, 69, 82]\n",
            "[87, 69, 82]\n",
            "[82, 'K', 'I', 'W']\n",
            "\n",
            "[87, 69, 82, 'K', 'I', 'W', 87, 69, 82, 87, 69, 82]\n",
            "[87, 69, 82, 'I', 'W', 87, 69, 82, 87, 69, 82]\n",
            "[87, 69, 82, 'I', 'W', 87, 69, 82]\n",
            "\n",
            "[87, 'a', 82, 2, 'W', 87, 69, 82]\n",
            "['a', 2]\n"
          ]
        }
      ],
      "execution_count": 150,
      "metadata": {
        "collapsed": true,
        "jupyter": {
          "source_hidden": false,
          "outputs_hidden": false
        },
        "nteract": {
          "transient": {
            "deleting": false
          }
        },
        "execution": {
          "iopub.status.busy": "2020-06-05T04:05:21.722Z",
          "iopub.execute_input": "2020-06-05T04:05:21.744Z",
          "iopub.status.idle": "2020-06-05T04:05:21.793Z",
          "shell.execute_reply": "2020-06-05T04:05:21.814Z"
        }
      }
    },
    {
      "cell_type": "markdown",
      "source": [
        "需要注意的地方是：**列表**（List）是可变序列，而**字符串**（str）是不可变序列，所以，对字符串来说，虽然也可以根据索引提取，但没办法根据索引删除或者替换。"
      ],
      "metadata": {
        "button": false,
        "deletable": true,
        "new_sheet": false,
        "run_control": {
          "read_only": false
        }
      }
    },
    {
      "cell_type": "code",
      "source": [
        "s = 'Python'[2:5]\n",
        "print(s)\n",
        "del s[2]  # 这一句会报错"
      ],
      "outputs": [
        {
          "output_type": "stream",
          "name": "stdout",
          "text": [
            "tho\n"
          ]
        },
        {
          "output_type": "error",
          "ename": "TypeError",
          "evalue": "'str' object doesn't support item deletion",
          "traceback": [
            "\u001b[0;31m---------------------------------------------------------------------------\u001b[0m",
            "\u001b[0;31mTypeError\u001b[0m                                 Traceback (most recent call last)",
            "\u001b[0;32m<ipython-input-7-c9c999709965>\u001b[0m in \u001b[0;36m<module>\u001b[0;34m\u001b[0m\n\u001b[1;32m      1\u001b[0m \u001b[0ms\u001b[0m \u001b[0;34m=\u001b[0m \u001b[0;34m'Python'\u001b[0m\u001b[0;34m[\u001b[0m\u001b[0;36m2\u001b[0m\u001b[0;34m:\u001b[0m\u001b[0;36m5\u001b[0m\u001b[0;34m]\u001b[0m\u001b[0;34m\u001b[0m\u001b[0;34m\u001b[0m\u001b[0m\n\u001b[1;32m      2\u001b[0m \u001b[0mprint\u001b[0m\u001b[0;34m(\u001b[0m\u001b[0ms\u001b[0m\u001b[0;34m)\u001b[0m\u001b[0;34m\u001b[0m\u001b[0;34m\u001b[0m\u001b[0m\n\u001b[0;32m----> 3\u001b[0;31m \u001b[0;32mdel\u001b[0m \u001b[0ms\u001b[0m\u001b[0;34m[\u001b[0m\u001b[0;36m3\u001b[0m\u001b[0;34m]\u001b[0m  \u001b[0;31m# 这一句会报错\u001b[0m\u001b[0;34m\u001b[0m\u001b[0;34m\u001b[0m\u001b[0m\n\u001b[0m",
            "\u001b[0;31mTypeError\u001b[0m: 'str' object doesn't support item deletion"
          ]
        }
      ],
      "execution_count": 7,
      "metadata": {
        "button": false,
        "collapsed": false,
        "deletable": true,
        "new_sheet": false,
        "run_control": {
          "read_only": false
        }
      }
    },
    {
      "cell_type": "code",
      "source": [
        "s='Python'[2:5]\n",
        "print(s)\n",
        "del s[2]"
      ],
      "outputs": [
        {
          "output_type": "stream",
          "name": "stdout",
          "text": [
            "tho\n"
          ]
        },
        {
          "output_type": "error",
          "ename": "TypeError",
          "evalue": "'str' object doesn't support item deletion",
          "traceback": [
            "\u001b[0;31m---------------------------------------------------------------------------\u001b[0m",
            "\u001b[0;31mTypeError\u001b[0m                                 Traceback (most recent call last)",
            "\u001b[0;32m<ipython-input-152-946b7425d274>\u001b[0m in \u001b[0;36m<module>\u001b[0;34m\u001b[0m\n\u001b[1;32m      1\u001b[0m \u001b[0ms\u001b[0m\u001b[0;34m=\u001b[0m\u001b[0;34m'Python'\u001b[0m\u001b[0;34m[\u001b[0m\u001b[0;36m2\u001b[0m\u001b[0;34m:\u001b[0m\u001b[0;36m5\u001b[0m\u001b[0;34m]\u001b[0m\u001b[0;34m\u001b[0m\u001b[0;34m\u001b[0m\u001b[0m\n\u001b[1;32m      2\u001b[0m \u001b[0mprint\u001b[0m\u001b[0;34m(\u001b[0m\u001b[0ms\u001b[0m\u001b[0;34m)\u001b[0m\u001b[0;34m\u001b[0m\u001b[0;34m\u001b[0m\u001b[0m\n\u001b[0;32m----> 3\u001b[0;31m \u001b[0;32mdel\u001b[0m \u001b[0ms\u001b[0m\u001b[0;34m[\u001b[0m\u001b[0;36m2\u001b[0m\u001b[0;34m]\u001b[0m\u001b[0;34m\u001b[0m\u001b[0;34m\u001b[0m\u001b[0m\n\u001b[0m",
            "\u001b[0;31mTypeError\u001b[0m: 'str' object doesn't support item deletion"
          ]
        }
      ],
      "execution_count": 152,
      "metadata": {
        "collapsed": true,
        "jupyter": {
          "source_hidden": false,
          "outputs_hidden": false
        },
        "nteract": {
          "transient": {
            "deleting": false
          }
        },
        "execution": {
          "iopub.status.busy": "2020-06-05T04:07:56.138Z",
          "iopub.execute_input": "2020-06-05T04:07:56.163Z",
          "iopub.status.idle": "2020-06-05T04:07:56.224Z",
          "shell.execute_reply": "2020-06-05T04:07:56.247Z"
        }
      }
    },
    {
      "cell_type": "markdown",
      "source": [
        "之前提到过：\n",
        "\n",
        "> 字符串常量（String Literal）是不可变有序容器，所以，虽然字符串也有一些 Methods 可用，但那些 Methods 都不改变它们自身，而是在操作后返回一个值给另外一个变量。\n",
        "\n",
        "而对于列表这种*可变容器*，我们可以对它进行操作，结果是*它本身被改变*了。"
      ],
      "metadata": {
        "button": false,
        "deletable": true,
        "new_sheet": false,
        "run_control": {
          "read_only": false
        }
      }
    },
    {
      "cell_type": "code",
      "source": [
        "s = 'Python'\n",
        "L = list(s)\n",
        "print(s)\n",
        "print(L)\n",
        "del L[2]\n",
        "print(L) # 用 del 对 L 操作之后，L 本身少了 1 个元素"
      ],
      "outputs": [
        {
          "output_type": "stream",
          "name": "stdout",
          "text": [
            "Python\n",
            "['P', 'y', 't', 'h', 'o', 'n']\n",
            "['P', 'y', 'h', 'o', 'n']\n"
          ]
        }
      ],
      "execution_count": 8,
      "metadata": {
        "button": false,
        "collapsed": false,
        "deletable": true,
        "new_sheet": false,
        "run_control": {
          "read_only": false
        }
      }
    },
    {
      "cell_type": "code",
      "source": [
        "s='Python'\n",
        "L=list(s)\n",
        "print(s)\n",
        "print(L)\n",
        "del L[2]\n",
        "print(L)"
      ],
      "outputs": [
        {
          "output_type": "stream",
          "name": "stdout",
          "text": [
            "Python\n",
            "['P', 'y', 't', 'h', 'o', 'n']\n",
            "['P', 'y', 'h', 'o', 'n']\n"
          ]
        }
      ],
      "execution_count": 153,
      "metadata": {
        "collapsed": true,
        "jupyter": {
          "source_hidden": false,
          "outputs_hidden": false
        },
        "nteract": {
          "transient": {
            "deleting": false
          }
        },
        "execution": {
          "iopub.status.busy": "2020-06-05T04:11:04.659Z",
          "iopub.execute_input": "2020-06-05T04:11:04.688Z",
          "iopub.status.idle": "2020-06-05T04:11:04.743Z",
          "shell.execute_reply": "2020-06-05T04:11:04.766Z"
        }
      }
    },
    {
      "cell_type": "markdown",
      "source": [
        "### 列表可用的内建函数"
      ],
      "metadata": {
        "button": false,
        "deletable": true,
        "new_sheet": false,
        "run_control": {
          "read_only": false
        }
      }
    },
    {
      "cell_type": "markdown",
      "source": [
        "列表和字符串都是容器，它们可使用的内建函数也其实都是一样的：\n",
        "\n",
        "> * `len()`\n",
        "> * `max()`\n",
        "> * `min()`"
      ],
      "metadata": {
        "button": false,
        "deletable": true,
        "new_sheet": false,
        "run_control": {
          "read_only": false
        }
      }
    },
    {
      "cell_type": "code",
      "source": [
        "import random\n",
        "n = 3 \n",
        "\n",
        "# 生成 3 个随机数，构成一个列表\n",
        "a_list = [random.randrange(65, 91) for i in range(n)]\n",
        "b_list = [chr(random.randrange(65, 91)) for i in range(n)]\n",
        "print(a_list)\n",
        "print(b_list)\n",
        "\n",
        "# 列表可以使用操作符 + 和*\n",
        "c_list = a_list + b_list + a_list * 2\n",
        "print(c_list)\n",
        "\n",
        "a_list *= 3\n",
        "print(a_list)\n",
        "\n",
        "# 内建函数操作 len()、max()、min()\n",
        "print(len(c_list))\n",
        "print(max(b_list)) # 内建函数内部做了异常处理，可以在字符之间或者数字之间进行比较 —— 初学者最讨厌这种事情了……\n",
        "print(min(b_list)) # 注意，max() 和 min() 应用的是 b_list, len() 应用的是 c_list —— 请自行找到对应的 list 进行分析。\n",
        "\n",
        "print('X' not in b_list)"
      ],
      "outputs": [
        {
          "output_type": "stream",
          "name": "stdout",
          "text": [
            "[89, 84, 85]\n",
            "['X', 'B', 'X']\n",
            "[89, 84, 85, 'X', 'B', 'X', 89, 84, 85, 89, 84, 85]\n",
            "[89, 84, 85, 89, 84, 85, 89, 84, 85]\n",
            "12\n",
            "X\n",
            "B\n",
            "False\n"
          ]
        }
      ],
      "execution_count": 9,
      "metadata": {
        "button": false,
        "collapsed": false,
        "deletable": true,
        "new_sheet": false,
        "run_control": {
          "read_only": false
        }
      }
    },
    {
      "cell_type": "markdown",
      "source": [
        "### Methods"
      ],
      "metadata": {
        "button": false,
        "deletable": true,
        "new_sheet": false,
        "run_control": {
          "read_only": false
        }
      }
    },
    {
      "cell_type": "markdown",
      "source": [
        "字符串常量和 range() 都是不可变的（Immutable）；而列表则是**可变类型**（Mutable type），所以，它最起码可以被排序 —— 使用 `sort()` Method："
      ],
      "metadata": {
        "button": false,
        "deletable": true,
        "new_sheet": false,
        "run_control": {
          "read_only": false
        }
      }
    },
    {
      "cell_type": "code",
      "source": [
        "import random\n",
        "n = 10 \n",
        "a_list = [random.randrange(1, 100) for i in range(n)]\n",
        "print(f'a_list comprehends {len(a_list)} random numbers:\\n', a_list)\n",
        "\n",
        "a_list.sort()\n",
        "print('the list sorted:\\n', a_list)\n",
        "\n",
        "a_list.sort(reverse=True) #reverse 参数，默认是 False\n",
        "print('the list sorted reversely:\\n', a_list)"
      ],
      "outputs": [
        {
          "output_type": "stream",
          "name": "stdout",
          "text": [
            "a_list comprehends 10 random numbers:\n",
            " [98, 9, 95, 15, 80, 70, 98, 82, 88, 46]\n",
            "the list sorted:\n",
            " [9, 15, 46, 70, 80, 82, 88, 95, 98, 98]\n",
            "the list sorted reversely:\n",
            " [98, 98, 95, 88, 82, 80, 70, 46, 15, 9]\n"
          ]
        }
      ],
      "execution_count": 10,
      "metadata": {
        "button": false,
        "collapsed": false,
        "deletable": true,
        "new_sheet": false,
        "run_control": {
          "read_only": false
        }
      }
    },
    {
      "cell_type": "code",
      "source": [
        "import random\n",
        "n=10\n",
        "a_list=[random.randrange(1,100) for i in range(n)]\n",
        "print(f'a_list comprehends {len(a_list)} random numbers:\\n',a_list)\n",
        "\n",
        "a_list.sort()\n",
        "print('the list sorted:\\n',a_list)\n",
        "\n",
        "a_list.sort(reverse=True)\n",
        "print('the list sorted reversely:\\n',a_list)"
      ],
      "outputs": [
        {
          "output_type": "stream",
          "name": "stdout",
          "text": [
            "a_list comprehends 10 random numbers:\n",
            " [63, 5, 91, 30, 94, 53, 46, 90, 68, 80]\n",
            "the list sorted:\n",
            " [5, 30, 46, 53, 63, 68, 80, 90, 91, 94]\n",
            "the list sorted reversely:\n",
            " [94, 91, 90, 80, 68, 63, 53, 46, 30, 5]\n"
          ]
        }
      ],
      "execution_count": 160,
      "metadata": {
        "collapsed": true,
        "jupyter": {
          "source_hidden": false,
          "outputs_hidden": false
        },
        "nteract": {
          "transient": {
            "deleting": false
          }
        },
        "execution": {
          "iopub.status.busy": "2020-06-05T05:34:51.330Z",
          "iopub.execute_input": "2020-06-05T05:34:51.352Z",
          "iopub.status.idle": "2020-06-05T05:34:51.401Z",
          "shell.execute_reply": "2020-06-05T05:34:51.424Z"
        }
      }
    },
    {
      "cell_type": "markdown",
      "source": [
        "如果列表中的元素全都是由字符串构成的，当然也可以排序："
      ],
      "metadata": {
        "button": false,
        "deletable": true,
        "new_sheet": false,
        "run_control": {
          "read_only": false
        }
      }
    },
    {
      "cell_type": "code",
      "source": [
        "import random\n",
        "n = 10 \n",
        "\n",
        "a_list = [chr(random.randrange(65, 91)) for i in range(n)]\n",
        "# chr() 函数会返回指定 ascii 码的字符，ord('A') 是 65\n",
        "print(f'a_list comprehends {len(a_list)} random string elements:\\n', a_list)\n",
        "\n",
        "a_list.sort()\n",
        "print('the list sorted:\\n', a_list)\n",
        "\n",
        "a_list.sort(reverse=True) #reverse 参数，默认是 False\n",
        "print('the list sorted reversely:\\n', a_list)\n",
        "\n",
        "print()\n",
        "\n",
        "b_list = [chr(random.randrange(65, 91)) +\\\n",
        "            chr(random.randrange(97, 123))\\\n",
        "            for i in range(n)]\n",
        "# 可以在行末加上 \\ 符号，表示 “该行未完待续……”\n",
        "\n",
        "print(f'b_list comprehends {len(b_list)} random string elements:\\n', b_list)\n",
        "\n",
        "b_list.sort()\n",
        "print('the sorted:\\n', b_list)\n",
        "\n",
        "b_list.sort(key=str.lower, reverse=True) \n",
        "# key 参数，默认是 None\n",
        "# key=str.lower 的意思是，在比较的时候，先全都转换成小写再比较……\n",
        "# —— 但并不改变原有值\n",
        "print('the sorted reversely:\\n', b_list)"
      ],
      "outputs": [
        {
          "output_type": "stream",
          "name": "stdout",
          "text": [
            "a_list comprehends 10 random string elements:\n",
            " ['B', 'U', 'H', 'D', 'C', 'V', 'V', 'Q', 'U', 'P']\n",
            "the list sorted:\n",
            " ['B', 'C', 'D', 'H', 'P', 'Q', 'U', 'U', 'V', 'V']\n",
            "the list sorted reversely:\n",
            " ['V', 'V', 'U', 'U', 'Q', 'P', 'H', 'D', 'C', 'B']\n",
            "\n",
            "b_list comprehends 10 random string elements:\n",
            " ['Nl', 'Mh', 'Ta', 'By', 'Ul', 'Nc', 'Gu', 'Rp', 'Pv', 'Bu']\n",
            "the sorted:\n",
            " ['Bu', 'By', 'Gu', 'Mh', 'Nc', 'Nl', 'Pv', 'Rp', 'Ta', 'Ul']\n",
            "the sorted reversely:\n",
            " ['Ul', 'Ta', 'Rp', 'Pv', 'Nl', 'Nc', 'Mh', 'Gu', 'By', 'Bu']\n"
          ]
        }
      ],
      "execution_count": 11,
      "metadata": {
        "button": false,
        "collapsed": false,
        "deletable": true,
        "new_sheet": false,
        "run_control": {
          "read_only": false
        }
      }
    },
    {
      "cell_type": "code",
      "source": [
        "import random\n",
        "n=10\n",
        "\n",
        "a_list=[chr(random.randrange(65,91)) for i in range(n)]\n",
        "print(f'a_list comprehends {len(a_list)} random string elements:\\n',a_list)\n",
        "\n",
        "a_list.sort()\n",
        "print('the list sorted:\\n',a_list)\n",
        "\n",
        "a_list.sort(reverse=True)\n",
        "print('the list sorted reversely:\\n',a_list)\n",
        "print()\n",
        "b_list=[chr(random.randrange(65,91))+chr(random.randrange(97,123)) for i in range(n)]\n",
        "\n",
        "print(f'b_list comprehends {len(b_list)} random string elements:\\n',b_list)\n",
        "\n",
        "b_list.sort()\n",
        "print('the sorted:\\n',b_list)\n",
        "\n",
        "b_list.sort(key=str.lower,reverse=True)\n",
        "print('the sorted reversely:\\n',b_list)"
      ],
      "outputs": [
        {
          "output_type": "stream",
          "name": "stdout",
          "text": [
            "a_list comprehends 10 random string elements:\n",
            " ['B', 'M', 'Y', 'U', 'T', 'K', 'P', 'T', 'L', 'G']\n",
            "the list sorted:\n",
            " ['B', 'G', 'K', 'L', 'M', 'P', 'T', 'T', 'U', 'Y']\n",
            "the list sorted reversely:\n",
            " ['Y', 'U', 'T', 'T', 'P', 'M', 'L', 'K', 'G', 'B']\n",
            "\n",
            "b_list comprehends 10 random string elements:\n",
            " ['Zp', 'Yb', 'Pq', 'Cu', 'Mr', 'Tz', 'Xg', 'Nc', 'Sc', 'Kp']\n",
            "the sorted:\n",
            " ['Cu', 'Kp', 'Mr', 'Nc', 'Pq', 'Sc', 'Tz', 'Xg', 'Yb', 'Zp']\n",
            "the sorted reversely:\n",
            " ['Zp', 'Yb', 'Xg', 'Tz', 'Sc', 'Pq', 'Nc', 'Mr', 'Kp', 'Cu']\n"
          ]
        }
      ],
      "execution_count": 173,
      "metadata": {
        "collapsed": true,
        "jupyter": {
          "source_hidden": false,
          "outputs_hidden": false
        },
        "nteract": {
          "transient": {
            "deleting": false
          }
        },
        "execution": {
          "iopub.status.busy": "2020-06-05T05:44:08.019Z",
          "iopub.execute_input": "2020-06-05T05:44:08.042Z",
          "iopub.status.idle": "2020-06-05T05:44:08.089Z",
          "shell.execute_reply": "2020-06-05T05:44:08.116Z"
        }
      }
    },
    {
      "cell_type": "markdown",
      "source": [
        "**注意**：不能乱比较…… 被比较的元素应该是同一类型 —— 所以，不是由同一种数据类型元素构成的列表，不能使用 `sort()` Method。下面的代码会报错："
      ],
      "metadata": {
        "button": false,
        "deletable": true,
        "new_sheet": false,
        "run_control": {
          "read_only": false
        }
      }
    },
    {
      "cell_type": "code",
      "source": [
        "a_list = [1, 'a', 'c']\n",
        "a_list = a_list.sort() # 这一句会报错"
      ],
      "outputs": [
        {
          "output_type": "error",
          "ename": "TypeError",
          "evalue": "'<' not supported between instances of 'str' and 'int'",
          "traceback": [
            "\u001b[0;31m---------------------------------------------------------------------------\u001b[0m",
            "\u001b[0;31mTypeError\u001b[0m                                 Traceback (most recent call last)",
            "\u001b[0;32m<ipython-input-12-acb9480a455d>\u001b[0m in \u001b[0;36m<module>\u001b[0;34m\u001b[0m\n\u001b[1;32m      1\u001b[0m \u001b[0ma_list\u001b[0m \u001b[0;34m=\u001b[0m \u001b[0;34m[\u001b[0m\u001b[0;36m1\u001b[0m\u001b[0;34m,\u001b[0m \u001b[0;34m'a'\u001b[0m\u001b[0;34m,\u001b[0m \u001b[0;34m'c'\u001b[0m\u001b[0;34m]\u001b[0m\u001b[0;34m\u001b[0m\u001b[0;34m\u001b[0m\u001b[0m\n\u001b[0;32m----> 2\u001b[0;31m \u001b[0ma_list\u001b[0m \u001b[0;34m=\u001b[0m \u001b[0ma_list\u001b[0m\u001b[0;34m.\u001b[0m\u001b[0msort\u001b[0m\u001b[0;34m(\u001b[0m\u001b[0;34m)\u001b[0m \u001b[0;31m# 这一句会报错\u001b[0m\u001b[0;34m\u001b[0m\u001b[0;34m\u001b[0m\u001b[0m\n\u001b[0m",
            "\u001b[0;31mTypeError\u001b[0m: '<' not supported between instances of 'str' and 'int'"
          ]
        }
      ],
      "execution_count": 12,
      "metadata": {
        "button": false,
        "collapsed": false,
        "deletable": true,
        "new_sheet": false,
        "run_control": {
          "read_only": false
        }
      }
    },
    {
      "cell_type": "code",
      "source": [
        "a_list=[1,'a','c']\n",
        "a_list=a_list.sort()"
      ],
      "outputs": [
        {
          "output_type": "error",
          "ename": "TypeError",
          "evalue": "'<' not supported between instances of 'str' and 'int'",
          "traceback": [
            "\u001b[0;31m---------------------------------------------------------------------------\u001b[0m",
            "\u001b[0;31mTypeError\u001b[0m                                 Traceback (most recent call last)",
            "\u001b[0;32m<ipython-input-174-4b50fa3ecbb6>\u001b[0m in \u001b[0;36m<module>\u001b[0;34m\u001b[0m\n\u001b[1;32m      1\u001b[0m \u001b[0ma_list\u001b[0m\u001b[0;34m=\u001b[0m\u001b[0;34m[\u001b[0m\u001b[0;36m1\u001b[0m\u001b[0;34m,\u001b[0m\u001b[0;34m'a'\u001b[0m\u001b[0;34m,\u001b[0m\u001b[0;34m'c'\u001b[0m\u001b[0;34m]\u001b[0m\u001b[0;34m\u001b[0m\u001b[0;34m\u001b[0m\u001b[0m\n\u001b[0;32m----> 2\u001b[0;31m \u001b[0ma_list\u001b[0m\u001b[0;34m=\u001b[0m\u001b[0ma_list\u001b[0m\u001b[0;34m.\u001b[0m\u001b[0msort\u001b[0m\u001b[0;34m(\u001b[0m\u001b[0;34m)\u001b[0m\u001b[0;34m\u001b[0m\u001b[0;34m\u001b[0m\u001b[0m\n\u001b[0m",
            "\u001b[0;31mTypeError\u001b[0m: '<' not supported between instances of 'str' and 'int'"
          ]
        }
      ],
      "execution_count": 174,
      "metadata": {
        "collapsed": true,
        "jupyter": {
          "source_hidden": false,
          "outputs_hidden": false
        },
        "nteract": {
          "transient": {
            "deleting": false
          }
        },
        "execution": {
          "iopub.status.busy": "2020-06-05T05:47:12.024Z",
          "iopub.execute_input": "2020-06-05T05:47:12.051Z",
          "iopub.status.idle": "2020-06-05T05:47:12.102Z",
          "shell.execute_reply": "2020-06-05T05:47:12.125Z"
        }
      }
    },
    {
      "cell_type": "markdown",
      "source": [
        "**可变序列**还有一系列可用的 **Methods**：`a.append()`，`a.clear()`，`a.copy()`，`a.extend(t)`，`a.insert(i，x)`，`a.pop([i])`，`a.remove(x)`，`a.reverse()`……"
      ],
      "metadata": {
        "button": false,
        "deletable": true,
        "new_sheet": false,
        "run_control": {
          "read_only": false
        }
      }
    },
    {
      "cell_type": "code",
      "source": [
        "import random\n",
        "n = 3 \n",
        "a_list = [random.randrange(65, 91) for i in range(n)]\n",
        "b_list = [chr(random.randrange(65, 91)) for i in range(n)]\n",
        "print(a_list)\n",
        "c_list = a_list + b_list + a_list * 2\n",
        "print(c_list)\n",
        "\n",
        "# 在末尾追加一个元素\n",
        "c_list.append('100')\n",
        "print(c_list)\n",
        "\n",
        "# 清空序列\n",
        "print()\n",
        "print(a_list)\n",
        "a_list.clear()\n",
        "print(a_list)\n",
        "\n",
        "print()\n",
        "# 拷贝一个列表\n",
        "d_list = c_list.copy()\n",
        "print(d_list)\n",
        "del d_list[6:8]\n",
        "print(d_list)\n",
        "print(c_list)             # 对一个拷贝操作，不会更改 “原件”\n",
        "\n",
        "print()\n",
        "# 演示拷贝 .copy() 与赋值 = 的不同\n",
        "e_list = d_list\n",
        "del e_list[6:8]\n",
        "print(e_list)\n",
        "print(d_list)             # 对 e_list 操作，相等于对 d_list 操作\n",
        "\n",
        "# 在末尾追加一个列表\n",
        "print()\n",
        "print(a_list)\n",
        "a_list.extend(c_list)      # 相当于 a_list += c_list\n",
        "print(a_list)\n",
        "\n",
        "# 在某索引位置插入一个元素\n",
        "print()\n",
        "print(a_list)\n",
        "a_list.insert(1, 'example')   # 在索引 1 的位置插入 'example'\n",
        "a_list.insert(3, 'example')   # 在索引 3 的位置插入 'example'；\n",
        "print(a_list)\n",
        "\n",
        "# 排序\n",
        "\n",
        "# a_list.sort() 这一句会出错，因为当前列表中的元素，是 int 和 str 混合的。\n",
        "\n",
        "print()\n",
        "print(a_list)\n",
        "a_list.reverse()\n",
        "print(a_list)\n",
        "x = a_list.reverse() # reverse() 只对当前序列操作，并不返回一个逆序列表；返回值是 None\n",
        "print(x)"
      ],
      "outputs": [
        {
          "output_type": "stream",
          "name": "stdout",
          "text": [
            "[65, 86, 82]\n",
            "[65, 86, 82, 'E', 'L', 'O', 65, 86, 82, 65, 86, 82]\n",
            "[65, 86, 82, 'E', 'L', 'O', 65, 86, 82, 65, 86, 82, '100']\n",
            "\n",
            "[65, 86, 82]\n",
            "[]\n",
            "\n",
            "[65, 86, 82, 'E', 'L', 'O', 65, 86, 82, 65, 86, 82, '100']\n",
            "[65, 86, 82, 'E', 'L', 'O', 82, 65, 86, 82, '100']\n",
            "[65, 86, 82, 'E', 'L', 'O', 65, 86, 82, 65, 86, 82, '100']\n",
            "\n",
            "[65, 86, 82, 'E', 'L', 'O', 86, 82, '100']\n",
            "[65, 86, 82, 'E', 'L', 'O', 86, 82, '100']\n",
            "\n",
            "[]\n",
            "[65, 86, 82, 'E', 'L', 'O', 65, 86, 82, 65, 86, 82, '100']\n",
            "\n",
            "[65, 86, 82, 'E', 'L', 'O', 65, 86, 82, 65, 86, 82, '100']\n",
            "[65, 'example', 86, 'example', 82, 'E', 'L', 'O', 65, 86, 82, 65, 86, 82, '100']\n",
            "\n",
            "[65, 'example', 86, 'example', 82, 'E', 'L', 'O', 65, 86, 82, 65, 86, 82, '100']\n",
            "['100', 82, 86, 65, 82, 86, 65, 'O', 'L', 'E', 82, 'example', 86, 'example', 65]\n",
            "None\n"
          ]
        }
      ],
      "execution_count": 188,
      "metadata": {
        "button": false,
        "collapsed": false,
        "deletable": true,
        "new_sheet": false,
        "run_control": {
          "read_only": false
        },
        "execution": {
          "iopub.status.busy": "2020-06-05T06:07:21.946Z",
          "iopub.execute_input": "2020-06-05T06:07:21.975Z",
          "iopub.status.idle": "2020-06-05T06:07:22.034Z",
          "shell.execute_reply": "2020-06-05T06:07:22.062Z"
        }
      }
    },
    {
      "cell_type": "code",
      "source": [
        "import random\n",
        "n=3\n",
        "a_list=[random.randrange(65,91) for i in range(n)]\n",
        "b_list=[chr(random.randrange(65,91)) for i in range(n)]\n",
        "print(a_list)\n",
        "c_list=a_list+b_list+a_list*2\n",
        "print(c_list)\n",
        "\n",
        "#在末尾追加一个元素\n",
        "c_list.append('100')\n",
        "print(c_list)\n",
        "\n",
        "#清空序列\n",
        "print()\n",
        "print(a_list)\n",
        "a_list.clear()\n",
        "print(a_list)\n",
        "\n",
        "print()\n",
        "#拷贝一个列表\n",
        "d_list=c_list.copy()\n",
        "print(d_list)\n",
        "del d_list[6:8]\n",
        "print(d_list)\n",
        "print(c_list)\n",
        "\n",
        "print()\n",
        "#演示拷贝 .copy() 与赋值=的不同\n",
        "e_list=d_list\n",
        "del e_list[6:8]\n",
        "print(e_list)\n",
        "print(d_list)\n",
        "\n",
        "#在末尾追加一个列表\n",
        "print()\n",
        "print(a_list)\n",
        "a_list.extend(c_list)\n",
        "print(a_list)\n",
        "\n",
        "#在某索引位置插入一个元素\n",
        "print()\n",
        "print(a_list)\n",
        "a_list.insert(1,'example')\n",
        "a_list.insert(3,'example')\n",
        "print(a_list)\n",
        "\n",
        "#排序\n",
        "print()\n",
        "print(a_list)\n",
        "a_list.reverse()\n",
        "print(a_list)\n",
        "x=a_list.reverse()\n",
        "print(x)"
      ],
      "outputs": [
        {
          "output_type": "stream",
          "name": "stdout",
          "text": [
            "[72, 82, 86]\n",
            "[72, 82, 86, 'A', 'I', 'U', 72, 82, 86, 72, 82, 86]\n",
            "[72, 82, 86, 'A', 'I', 'U', 72, 82, 86, 72, 82, 86, '100']\n",
            "\n",
            "[72, 82, 86]\n",
            "[]\n",
            "\n",
            "[72, 82, 86, 'A', 'I', 'U', 72, 82, 86, 72, 82, 86, '100']\n",
            "[72, 82, 86, 'A', 'I', 'U', 86, 72, 82, 86, '100']\n",
            "[72, 82, 86, 'A', 'I', 'U', 72, 82, 86, 72, 82, 86, '100']\n",
            "\n",
            "[72, 82, 86, 'A', 'I', 'U', 82, 86, '100']\n",
            "[72, 82, 86, 'A', 'I', 'U', 82, 86, '100']\n",
            "\n",
            "[]\n",
            "[72, 82, 86, 'A', 'I', 'U', 72, 82, 86, 72, 82, 86, '100']\n",
            "\n",
            "[72, 82, 86, 'A', 'I', 'U', 72, 82, 86, 72, 82, 86, '100']\n",
            "[72, 'example', 82, 'example', 86, 'A', 'I', 'U', 72, 82, 86, 72, 82, 86, '100']\n",
            "\n",
            "[72, 'example', 82, 'example', 86, 'A', 'I', 'U', 72, 82, 86, 72, 82, 86, '100']\n",
            "['100', 86, 82, 72, 86, 82, 72, 'U', 'I', 'A', 86, 'example', 82, 'example', 72]\n",
            "None\n"
          ]
        }
      ],
      "execution_count": 189,
      "metadata": {
        "collapsed": true,
        "jupyter": {
          "source_hidden": false,
          "outputs_hidden": false
        },
        "nteract": {
          "transient": {
            "deleting": false
          }
        },
        "execution": {
          "iopub.status.busy": "2020-06-05T06:08:13.426Z",
          "iopub.execute_input": "2020-06-05T06:08:13.450Z",
          "iopub.status.idle": "2020-06-05T06:08:13.500Z",
          "shell.execute_reply": "2020-06-05T06:08:13.527Z"
        }
      }
    },
    {
      "cell_type": "markdown",
      "source": [
        "有一个命令、两个 Methods 与删除单个元素相关联，`del`，`a.pop([i])`，`a.remove(x)`，请注意它们之间的区别。"
      ],
      "metadata": {
        "button": false,
        "deletable": true,
        "new_sheet": false,
        "run_control": {
          "read_only": false
        }
      }
    },
    {
      "cell_type": "code",
      "source": [
        "import random\n",
        "n = 3 \n",
        "a_list = [random.randrange(65, 91) for i in range(n)]\n",
        "print(a_list)\n",
        "\n",
        "# 插入\n",
        "print()\n",
        "a_list.insert(1, 'example')   # 在索引 1 的位置插入 'example'\n",
        "\n",
        "# 删除\n",
        "print()\n",
        "print(a_list)\n",
        "a_list.remove('example')      # 去除 'example' 这个元素，如果有多个 'example'，只删除第一个\n",
        "print(a_list)\n",
        "\n",
        "# pop() 删除并返回被删除的值\n",
        "\n",
        "print()\n",
        "print(a_list)\n",
        "p = a_list.pop(2)      # 去除索引为 2 的元素，且返回元素的值，赋值给 p\n",
        "print(a_list)\n",
        "print(p)\n",
        "\n",
        "# pop() 与 del，或者 remove() 的区别\n",
        "print()\n",
        "a_list.insert(2, 'example')\n",
        "a_list.insert(2, 'example')\n",
        "print(a_list)\n",
        "del a_list[2]\n",
        "print(a_list)\n",
        "\n",
        "print()\n",
        "print(a_list.remove('example')) # a_list.remove() 这个 Method 的返回值是 None\n",
        "print(a_list)"
      ],
      "outputs": [
        {
          "output_type": "stream",
          "name": "stdout",
          "text": [
            "[88, 84, 69]\n",
            "\n",
            "\n",
            "[88, 'example', 84, 69]\n",
            "[88, 84, 69]\n",
            "\n",
            "[88, 84, 69]\n",
            "[88, 84]\n",
            "69\n",
            "\n",
            "[88, 84, 'example', 'example']\n",
            "[88, 84, 'example']\n",
            "\n",
            "None\n",
            "[88, 84]\n"
          ]
        }
      ],
      "execution_count": 14,
      "metadata": {
        "button": false,
        "collapsed": false,
        "deletable": true,
        "new_sheet": false,
        "run_control": {
          "read_only": false
        }
      }
    },
    {
      "cell_type": "code",
      "source": [
        "import random\n",
        "n=3\n",
        "a_list=[random.randrange(65,91) for i in range(n)]\n",
        "print(a_list)\n",
        "\n",
        "#插入\n",
        "print()\n",
        "a_list.insert(1,'example')\n",
        "\n",
        "#删除\n",
        "print()\n",
        "print(a_list)\n",
        "a_list.remove('example')\n",
        "print(a_list)\n",
        "\n",
        "# pop()删除并返回删除的值\n",
        "print()\n",
        "print(a_list)\n",
        "p=a_list.pop(2)\n",
        "print(a_list)\n",
        "print(p)\n",
        "\n",
        "#pop()与del，或者remove()的区别\n",
        "print()\n",
        "a_list.insert(2,'example')\n",
        "a_list.insert(2,'example')\n",
        "print(a_list)\n",
        "del a_list[2]\n",
        "print(a_list)\n",
        "\n",
        "print()\n",
        "print(a_list.remove('example')) # a_list.remove()这个Method的返回值是None\n",
        "print(a_list)"
      ],
      "outputs": [
        {
          "output_type": "stream",
          "name": "stdout",
          "text": [
            "[87, 75, 71]\n",
            "\n",
            "\n",
            "[87, 'example', 75, 71]\n",
            "[87, 75, 71]\n",
            "\n",
            "[87, 75, 71]\n",
            "[87, 75]\n",
            "71\n",
            "\n",
            "[87, 75, 'example', 'example']\n",
            "[87, 75, 'example']\n",
            "\n",
            "None\n",
            "[87, 75]\n"
          ]
        }
      ],
      "execution_count": 195,
      "metadata": {
        "collapsed": true,
        "jupyter": {
          "source_hidden": false,
          "outputs_hidden": false
        },
        "nteract": {
          "transient": {
            "deleting": false
          }
        },
        "execution": {
          "iopub.status.busy": "2020-06-05T06:16:58.269Z",
          "iopub.execute_input": "2020-06-05T06:16:58.295Z",
          "iopub.status.idle": "2020-06-05T06:16:58.347Z",
          "shell.execute_reply": "2020-06-05T06:16:58.371Z"
        }
      }
    },
    {
      "cell_type": "markdown",
      "source": [
        "### 小结"
      ],
      "metadata": {
        "button": false,
        "deletable": true,
        "new_sheet": false,
        "run_control": {
          "read_only": false
        }
      }
    },
    {
      "cell_type": "markdown",
      "source": [
        "看起来是个新概念，例子全部读完也很是要花上一段时间，然而，从操作上来看，操作列表和操作字符串的差异并不大，重点在于一个是 Immutable，另外一个是 Mutable，所以，例如像 `a.sort()`，`a.remove()` 这样的事，列表能做，字符串不能做 —— 字符串也可以排序，但那是排序之后返回给另外一个变量；而列表可以直接改变自身……\n",
        "\n",
        "而整理成表格之后呢，理解与记忆真的是零压力：\n",
        "\n",
        "![](images/list-concepts.png)"
      ],
      "metadata": {
        "button": false,
        "deletable": true,
        "new_sheet": false,
        "run_control": {
          "read_only": false
        }
      }
    },
    {
      "cell_type": "markdown",
      "source": [
        "## 元组（Tuple）"
      ],
      "metadata": {
        "button": false,
        "deletable": true,
        "new_sheet": false,
        "run_control": {
          "read_only": false
        }
      }
    },
    {
      "cell_type": "markdown",
      "source": [
        "在完整掌握列表的创建与操作之后，再理解元组（Tuple）就容易了，因为它们之间的主要区别只有两个：\n",
        "\n",
        "> * List 是*可变*有序容器，Tuple 是*不可变*有序容器。\n",
        "> * List 用*方括号*标识 `[]`，Tuple 用*圆括号* 标识 `()`。\n",
        "\n",
        "创建一个元组的时候，用圆括号：\n",
        "\n",
        "```python\n",
        "a = ()\n",
        "``` \n",
        "\n",
        "这样就创建了一个空元组。\n",
        "\n",
        "多个元素之间，用 `,` 分离。\n",
        "\n",
        "创建一个含多个元素的元组，可以省略这个括号。"
      ],
      "metadata": {
        "button": false,
        "deletable": true,
        "new_sheet": false,
        "run_control": {
          "read_only": false
        }
      }
    },
    {
      "cell_type": "code",
      "source": [
        "a = 1, 2, 3   # 不建议这种写法\n",
        "b = (1, 2, 3) # 在创建元组的时候建议永远不省略圆括号……\n",
        "print(a)\n",
        "print(b)\n",
        "a == b"
      ],
      "outputs": [
        {
          "output_type": "stream",
          "name": "stdout",
          "text": [
            "(1, 2, 3)\n",
            "(1, 2, 3)\n"
          ]
        },
        {
          "output_type": "execute_result",
          "execution_count": 15,
          "data": {
            "text/plain": [
              "True"
            ]
          },
          "metadata": {}
        }
      ],
      "execution_count": 15,
      "metadata": {
        "button": false,
        "collapsed": false,
        "deletable": true,
        "new_sheet": false,
        "run_control": {
          "read_only": false
        }
      }
    },
    {
      "cell_type": "code",
      "source": [
        "a=1,2,3\n",
        "b=(1,2,3)\n",
        "print(a)\n",
        "print(b)\n",
        "a==b"
      ],
      "outputs": [
        {
          "output_type": "stream",
          "name": "stdout",
          "text": [
            "(1, 2, 3)\n",
            "(1, 2, 3)\n"
          ]
        },
        {
          "output_type": "execute_result",
          "execution_count": 3,
          "data": {
            "text/plain": [
              "True"
            ]
          },
          "metadata": {}
        }
      ],
      "execution_count": 3,
      "metadata": {
        "button": false,
        "collapsed": false,
        "deletable": true,
        "new_sheet": false,
        "run_control": {
          "read_only": false
        }
      }
    },
    {
      "cell_type": "markdown",
      "source": [
        "**注意**：创建单个元素的元组，无论是否使用圆括号，在那唯一的元素后面一定要*补上一个逗号* `,`："
      ],
      "metadata": {
        "button": false,
        "deletable": true,
        "new_sheet": false,
        "run_control": {
          "read_only": false
        }
      }
    },
    {
      "cell_type": "code",
      "source": [
        "from IPython.core.interactiveshell import InteractiveShell\n",
        "InteractiveShell.ast_node_interactivity = \"all\"\n",
        "\n",
        "a = 2, # 注意这个末尾的逗号 , 它使得 a 变量被定义为一个元组，而不是数字\n",
        "a\n",
        "\n",
        "b = 2  # 整数，赋值\n",
        "b\n",
        "\n",
        "c = (2) # 不是元组\n",
        "c\n",
        "type(c) # 还是 int\n",
        "\n",
        "d = (2,) # 这才是元组\n",
        "d\n",
        "a == d"
      ],
      "outputs": [
        {
          "output_type": "execute_result",
          "execution_count": 16,
          "data": {
            "text/plain": [
              "(2,)"
            ]
          },
          "metadata": {}
        },
        {
          "output_type": "execute_result",
          "execution_count": 16,
          "data": {
            "text/plain": [
              "2"
            ]
          },
          "metadata": {}
        },
        {
          "output_type": "execute_result",
          "execution_count": 16,
          "data": {
            "text/plain": [
              "2"
            ]
          },
          "metadata": {}
        },
        {
          "output_type": "execute_result",
          "execution_count": 16,
          "data": {
            "text/plain": [
              "int"
            ]
          },
          "metadata": {}
        },
        {
          "output_type": "execute_result",
          "execution_count": 16,
          "data": {
            "text/plain": [
              "(2,)"
            ]
          },
          "metadata": {}
        },
        {
          "output_type": "execute_result",
          "execution_count": 16,
          "data": {
            "text/plain": [
              "True"
            ]
          },
          "metadata": {}
        }
      ],
      "execution_count": 16,
      "metadata": {
        "button": false,
        "collapsed": false,
        "deletable": true,
        "new_sheet": false,
        "run_control": {
          "read_only": false
        }
      }
    },
    {
      "cell_type": "code",
      "source": [
        "from IPython.core.interactiveshell import InteractiveShell\n",
        "InteractiveShell.ast_node_interactivity = \"all\"\n",
        "\n",
        "a=2,\n",
        "a\n",
        "\n",
        "b=2\n",
        "b\n",
        "\n",
        "c=(2)\n",
        "c\n",
        "type(c)\n",
        "\n",
        "d=(2,)\n",
        "d\n",
        "a==d"
      ],
      "outputs": [
        {
          "output_type": "execute_result",
          "execution_count": 5,
          "data": {
            "text/plain": [
              "(2,)"
            ]
          },
          "metadata": {}
        },
        {
          "output_type": "execute_result",
          "execution_count": 5,
          "data": {
            "text/plain": [
              "2"
            ]
          },
          "metadata": {}
        },
        {
          "output_type": "execute_result",
          "execution_count": 5,
          "data": {
            "text/plain": [
              "2"
            ]
          },
          "metadata": {}
        },
        {
          "output_type": "execute_result",
          "execution_count": 5,
          "data": {
            "text/plain": [
              "int"
            ]
          },
          "metadata": {}
        },
        {
          "output_type": "execute_result",
          "execution_count": 5,
          "data": {
            "text/plain": [
              "(2,)"
            ]
          },
          "metadata": {}
        },
        {
          "output_type": "execute_result",
          "execution_count": 5,
          "data": {
            "text/plain": [
              "True"
            ]
          },
          "metadata": {}
        }
      ],
      "execution_count": 5,
      "metadata": {
        "button": false,
        "collapsed": false,
        "deletable": true,
        "new_sheet": false,
        "run_control": {
          "read_only": false
        }
      }
    },
    {
      "cell_type": "markdown",
      "source": [
        "元组是不可变序列，所以，你没办法从里面删除元素。\n",
        "\n",
        "但是，你可以在末尾追加元素。所以，严格意义上，对元组来讲，“不可变” 的意思是说，“**当前已有部分不可变**”……"
      ],
      "metadata": {
        "button": false,
        "deletable": true,
        "new_sheet": false,
        "run_control": {
          "read_only": false
        }
      }
    },
    {
      "cell_type": "code",
      "source": [
        "a = 1, \n",
        "print(a)\n",
        "print(id(a))\n",
        "a += 3, 5\n",
        "print(a)\n",
        "print(id(a)) # id 并不相同 —— 实际上是在内存中另外新创建了一个元组……"
      ],
      "outputs": [
        {
          "output_type": "stream",
          "name": "stdout",
          "text": [
            "(1,)\n",
            "4593032496\n",
            "(1, 3, 5)\n",
            "4592468976\n"
          ]
        }
      ],
      "execution_count": 17,
      "metadata": {
        "button": false,
        "collapsed": false,
        "deletable": true,
        "new_sheet": false,
        "run_control": {
          "read_only": false
        }
      }
    },
    {
      "cell_type": "code",
      "source": [
        "a=1,\n",
        "print(a)\n",
        "print(id(a))\n",
        "a+=3,5\n",
        "print(a)\n",
        "print(id(a))"
      ],
      "outputs": [
        {
          "output_type": "stream",
          "name": "stdout",
          "text": [
            "(1,)\n",
            "140570119995600\n",
            "(1, 3, 5)\n",
            "140570120064368\n"
          ]
        }
      ],
      "execution_count": 6,
      "metadata": {
        "button": false,
        "collapsed": false,
        "deletable": true,
        "new_sheet": false,
        "run_control": {
          "read_only": false
        }
      }
    },
    {
      "cell_type": "markdown",
      "source": [
        "初学者总是很好奇 List 和 Tuple 的区别。首先是使用场景，在将来需要更改的时候，创建 List\n",
        "；在将来不需要更改的时候，创建 Tuple。其次，从计算机的角度来看，Tuple 相对于 List 占用更小的内存。"
      ],
      "metadata": {
        "button": false,
        "deletable": true,
        "new_sheet": false,
        "run_control": {
          "read_only": false
        }
      }
    },
    {
      "cell_type": "code",
      "source": [
        "from IPython.core.interactiveshell import InteractiveShell\n",
        "InteractiveShell.ast_node_interactivity = \"all\"\n",
        "\n",
        "n = 10000 #@param {type:\"number\"}\n",
        "a = range(n)\n",
        "b = tuple(a) # 把 a 转换成元组\n",
        "c = list(a) # 把 a 转换成列表\n",
        "a.__sizeof__()\n",
        "b.__sizeof__()\n",
        "c.__sizeof__()"
      ],
      "outputs": [
        {
          "output_type": "execute_result",
          "execution_count": 18,
          "data": {
            "text/plain": [
              "48"
            ]
          },
          "metadata": {}
        },
        {
          "output_type": "execute_result",
          "execution_count": 18,
          "data": {
            "text/plain": [
              "80024"
            ]
          },
          "metadata": {}
        },
        {
          "output_type": "execute_result",
          "execution_count": 18,
          "data": {
            "text/plain": [
              "90088"
            ]
          },
          "metadata": {}
        }
      ],
      "execution_count": 18,
      "metadata": {
        "button": false,
        "collapsed": false,
        "deletable": true,
        "new_sheet": false,
        "run_control": {
          "read_only": false
        }
      }
    },
    {
      "cell_type": "code",
      "source": [
        "from IPython.core.interactiveshell import InteractiveShell\n",
        "InteractiveShell.ast_node_interactivity = \"all\"\n",
        "\n",
        "n=10000\n",
        "a=range(n)\n",
        "b=tuple(a)\n",
        "c=list(a)\n",
        "a.__sizeof__()\n",
        "b.__sizeof__()\n",
        "c.__sizeof__()"
      ],
      "outputs": [
        {
          "output_type": "execute_result",
          "execution_count": 8,
          "data": {
            "text/plain": [
              "48"
            ]
          },
          "metadata": {}
        },
        {
          "output_type": "execute_result",
          "execution_count": 8,
          "data": {
            "text/plain": [
              "80024"
            ]
          },
          "metadata": {}
        },
        {
          "output_type": "execute_result",
          "execution_count": 8,
          "data": {
            "text/plain": [
              "90088"
            ]
          },
          "metadata": {}
        }
      ],
      "execution_count": 8,
      "metadata": {
        "button": false,
        "collapsed": false,
        "deletable": true,
        "new_sheet": false,
        "run_control": {
          "read_only": false
        }
      }
    },
    {
      "cell_type": "markdown",
      "source": [
        "等你了解了 Tuple 的标注方式，你就会发现，`range()` 函数返回的等差数列就是一个 Tuple —— `range(6)` 就相当于 `(0, 1, 2, 3, 4, 5)`。"
      ],
      "metadata": {
        "button": false,
        "deletable": true,
        "new_sheet": false,
        "run_control": {
          "read_only": false
        }
      }
    },
    {
      "cell_type": "markdown",
      "source": [
        "## 集合（Set）"
      ],
      "metadata": {
        "button": false,
        "deletable": true,
        "new_sheet": false,
        "run_control": {
          "read_only": false
        },
        "toc-hr-collapsed": true,
        "toc-nb-collapsed": true
      }
    },
    {
      "cell_type": "markdown",
      "source": [
        "**集合**（Set）这个容器类型与列表不同的地方在于，首先它*不包含重合元素*，其次它是*无序*的；进而，集合又分为两种，Set，*可变的*，Frozen Set，*不可变的*。\n",
        "\n",
        "创建一个集合，用**花括号** `{}` 把元素括起来，用 `,` 把元素隔开："
      ],
      "metadata": {
        "button": false,
        "deletable": true,
        "new_sheet": false,
        "run_control": {
          "read_only": false
        }
      }
    },
    {
      "cell_type": "code",
      "source": [
        "primes = {2, 3, 5, 7, 11, 13, 17}\n",
        "primes"
      ],
      "outputs": [
        {
          "output_type": "execute_result",
          "execution_count": 19,
          "data": {
            "text/plain": [
              "{2, 3, 5, 7, 11, 13, 17}"
            ]
          },
          "metadata": {}
        }
      ],
      "execution_count": 19,
      "metadata": {
        "button": false,
        "collapsed": false,
        "deletable": true,
        "new_sheet": false,
        "run_control": {
          "read_only": false
        }
      }
    },
    {
      "cell_type": "code",
      "source": [
        "primes={2,3,5,7,11,13,17}\n",
        "primes"
      ],
      "outputs": [
        {
          "output_type": "execute_result",
          "execution_count": 8,
          "data": {
            "text/plain": [
              "{2, 3, 5, 7, 11, 13, 17}"
            ]
          },
          "metadata": {}
        }
      ],
      "execution_count": 8,
      "metadata": {
        "collapsed": true,
        "jupyter": {
          "source_hidden": false,
          "outputs_hidden": false
        },
        "nteract": {
          "transient": {
            "deleting": false
          }
        },
        "execution": {
          "shell.execute_reply": "2020-06-05T00:37:37.695Z",
          "iopub.status.busy": "2020-06-05T00:37:37.624Z",
          "iopub.execute_input": "2020-06-05T00:37:37.642Z",
          "iopub.status.idle": "2020-06-05T00:37:37.677Z"
        }
      }
    },
    {
      "cell_type": "markdown",
      "source": [
        "### 创建"
      ],
      "metadata": {
        "button": false,
        "deletable": true,
        "new_sheet": false,
        "run_control": {
          "read_only": false
        },
        "toc-hr-collapsed": true
      }
    },
    {
      "cell_type": "markdown",
      "source": [
        "注意：创建空集合的时候，必须用 `set()`，而不能用 `{}`:"
      ],
      "metadata": {
        "button": false,
        "deletable": true,
        "new_sheet": false,
        "run_control": {
          "read_only": false
        }
      }
    },
    {
      "cell_type": "code",
      "source": [
        "from IPython.core.interactiveshell import InteractiveShell\n",
        "InteractiveShell.ast_node_interactivity = \"all\"\n",
        "\n",
        "a = {} # 注意这样创建的是一个 dict（字典），而不是 set 集合\n",
        "b = set() # 这样创建的才是空集合\n",
        "type(a)\n",
        "type(b)"
      ],
      "outputs": [
        {
          "output_type": "execute_result",
          "execution_count": 20,
          "data": {
            "text/plain": [
              "dict"
            ]
          },
          "metadata": {}
        },
        {
          "output_type": "execute_result",
          "execution_count": 20,
          "data": {
            "text/plain": [
              "set"
            ]
          },
          "metadata": {}
        }
      ],
      "execution_count": 20,
      "metadata": {
        "button": false,
        "collapsed": false,
        "deletable": true,
        "new_sheet": false,
        "run_control": {
          "read_only": false
        }
      }
    },
    {
      "cell_type": "code",
      "source": [
        "from IPython.core.interactiveshell import InteractiveShell\n",
        "InteractiveShell.ast_node_interactivity = \"all\"\n",
        "\n",
        "a={}\n",
        "b=set()\n",
        "type(a)\n",
        "type(b)"
      ],
      "outputs": [
        {
          "output_type": "execute_result",
          "execution_count": 11,
          "data": {
            "text/plain": [
              "dict"
            ]
          },
          "metadata": {}
        },
        {
          "output_type": "execute_result",
          "execution_count": 11,
          "data": {
            "text/plain": [
              "set"
            ]
          },
          "metadata": {}
        }
      ],
      "execution_count": 11,
      "metadata": {
        "collapsed": true,
        "jupyter": {
          "source_hidden": false,
          "outputs_hidden": false
        },
        "nteract": {
          "transient": {
            "deleting": false
          }
        },
        "execution": {
          "iopub.status.busy": "2020-06-05T00:42:00.825Z",
          "iopub.execute_input": "2020-06-05T00:42:00.845Z",
          "iopub.status.idle": "2020-06-05T00:42:00.898Z",
          "shell.execute_reply": "2020-06-05T00:42:00.917Z"
        }
      }
    },
    {
      "cell_type": "markdown",
      "source": [
        "也可以将序列数据转换（Casting）为集合。转换后，返回的是一个已**去重**的集合。"
      ],
      "metadata": {
        "button": false,
        "deletable": true,
        "new_sheet": false,
        "run_control": {
          "read_only": false
        }
      }
    },
    {
      "cell_type": "code",
      "source": [
        "from IPython.core.interactiveshell import InteractiveShell\n",
        "InteractiveShell.ast_node_interactivity = \"all\"\n",
        "\n",
        "a = \"abcabcdeabcdbcdef\"\n",
        "b = range(10)\n",
        "c = [1, 2, 2, 3, 3, 1]\n",
        "d = ('a', 'b', 'e', 'b', 'a')\n",
        "set(a)\n",
        "set(b)\n",
        "set(c)\n",
        "set(d)"
      ],
      "outputs": [
        {
          "output_type": "execute_result",
          "execution_count": 21,
          "data": {
            "text/plain": [
              "{'a', 'b', 'c', 'd', 'e', 'f'}"
            ]
          },
          "metadata": {}
        },
        {
          "output_type": "execute_result",
          "execution_count": 21,
          "data": {
            "text/plain": [
              "{0, 1, 2, 3, 4, 5, 6, 7, 8, 9}"
            ]
          },
          "metadata": {}
        },
        {
          "output_type": "execute_result",
          "execution_count": 21,
          "data": {
            "text/plain": [
              "{1, 2, 3}"
            ]
          },
          "metadata": {}
        },
        {
          "output_type": "execute_result",
          "execution_count": 21,
          "data": {
            "text/plain": [
              "{'a', 'b', 'e'}"
            ]
          },
          "metadata": {}
        }
      ],
      "execution_count": 21,
      "metadata": {
        "button": false,
        "collapsed": false,
        "deletable": true,
        "new_sheet": false,
        "run_control": {
          "read_only": false
        }
      }
    },
    {
      "cell_type": "code",
      "source": [
        "from IPython.core.interactiveshell import InteractiveShell\n",
        "InteractiveShell.ast_node_interactivity = \"all\"\n",
        "\n",
        "a=\"abcabcdeabcdbcdef\"\n",
        "b=range(10)\n",
        "c=[1,2,2,3,3,1]\n",
        "d=('a','b','e','b','a')\n",
        "set(a)"
      ],
      "outputs": [
        {
          "output_type": "execute_result",
          "execution_count": 12,
          "data": {
            "text/plain": [
              "{'a', 'b', 'c', 'd', 'e', 'f'}"
            ]
          },
          "metadata": {}
        },
        {
          "output_type": "execute_result",
          "execution_count": 12,
          "data": {
            "text/plain": [
              "{0, 1, 2, 3, 4, 5, 6, 7, 8, 9}"
            ]
          },
          "metadata": {}
        },
        {
          "output_type": "execute_result",
          "execution_count": 12,
          "data": {
            "text/plain": [
              "{1, 2, 3}"
            ]
          },
          "metadata": {}
        },
        {
          "output_type": "execute_result",
          "execution_count": 12,
          "data": {
            "text/plain": [
              "{'a', 'b', 'e'}"
            ]
          },
          "metadata": {}
        }
      ],
      "execution_count": 12,
      "metadata": {
        "collapsed": true,
        "jupyter": {
          "source_hidden": false,
          "outputs_hidden": false
        },
        "nteract": {
          "transient": {
            "deleting": false
          }
        },
        "execution": {
          "iopub.status.busy": "2020-06-05T00:45:21.541Z",
          "iopub.execute_input": "2020-06-05T00:45:21.559Z",
          "iopub.status.idle": "2020-06-05T00:45:21.623Z",
          "shell.execute_reply": "2020-06-05T00:45:21.641Z"
        }
      }
    },
    {
      "cell_type": "code",
      "source": [],
      "outputs": [],
      "execution_count": null,
      "metadata": {
        "collapsed": true,
        "jupyter": {
          "source_hidden": false,
          "outputs_hidden": false
        },
        "nteract": {
          "transient": {
            "deleting": false
          }
        }
      }
    },
    {
      "cell_type": "markdown",
      "source": [
        "Set 当然也可以进行 *Comprehension*："
      ],
      "metadata": {
        "button": false,
        "deletable": true,
        "new_sheet": false,
        "run_control": {
          "read_only": false
        }
      }
    },
    {
      "cell_type": "code",
      "source": [
        "a = \"abcabcdeabcdbcdef\"\n",
        "b = {x for x in a if x not in 'abc'}\n",
        "b"
      ],
      "outputs": [
        {
          "output_type": "execute_result",
          "execution_count": 22,
          "data": {
            "text/plain": [
              "{'d', 'e', 'f'}"
            ]
          },
          "metadata": {}
        }
      ],
      "execution_count": 22,
      "metadata": {
        "button": false,
        "collapsed": false,
        "deletable": true,
        "new_sheet": false,
        "run_control": {
          "read_only": false
        }
      }
    },
    {
      "cell_type": "code",
      "source": [
        "a=\"abcadbcdeabcdbcdef\"\n",
        "b={x for x in a if x not in 'abc'}\n",
        "b"
      ],
      "outputs": [
        {
          "output_type": "execute_result",
          "execution_count": 13,
          "data": {
            "text/plain": [
              "{'d', 'e', 'f'}"
            ]
          },
          "metadata": {}
        }
      ],
      "execution_count": 13,
      "metadata": {
        "collapsed": true,
        "jupyter": {
          "source_hidden": false,
          "outputs_hidden": false
        },
        "nteract": {
          "transient": {
            "deleting": false
          }
        },
        "execution": {
          "iopub.status.busy": "2020-06-05T00:47:38.613Z",
          "iopub.execute_input": "2020-06-05T00:47:38.631Z",
          "iopub.status.idle": "2020-06-05T00:47:38.669Z",
          "shell.execute_reply": "2020-06-05T00:47:38.687Z"
        }
      }
    },
    {
      "cell_type": "markdown",
      "source": [
        "### 操作"
      ],
      "metadata": {
        "button": false,
        "deletable": true,
        "new_sheet": false,
        "run_control": {
          "read_only": false
        }
      }
    },
    {
      "cell_type": "markdown",
      "source": [
        "将序列类型数据转换成 Set，就等于**去重**。当然，也可以用 `in` 来判断某个元素是否属于这个集合。`len()`、`max()`、`min()`，也都可以用来操作 Set，但 `del` 却不行 —— 因为 Set 中的元素没有索引（它不是有序容器）。从 Set 里删除元素，得用 `set.remove(elem)`；而 Frozen Set 是不可变的，所以不能用 `set.remove(elem)` 操作。\n",
        "\n",
        "对于集合，有相应的操作符可以对它们进行集合运算：\n",
        "\n",
        "> * 并集：`|`\n",
        "> * 交集：`&`\n",
        "> * 差集：`-`\n",
        "> * 对称差集：`^`"
      ],
      "metadata": {
        "button": false,
        "deletable": true,
        "new_sheet": false,
        "run_control": {
          "read_only": false
        }
      }
    },
    {
      "cell_type": "markdown",
      "source": [
        "之前用 `set('abcabcdeabcdbcdef')` 作为简单例子还凑合能用；但这样对读者无意义的集合，无助于进一步的理解。\n",
        "\n",
        "事实上，每种数据结构（Data Structures —— 在这一章里，我们一直用的概念是 “容器”，其实是指同一事物的两种称呼）都有自己的应用场景。比如，当我们需要管理很多用户时，集合就可以派上很大用场。\n",
        "\n",
        "假定两个集合中有些人是 admins，有些人是 moderators：\n",
        "\n",
        "```python\n",
        "admins = {'Moose', 'Joker', 'Joker'}\n",
        "moderators = {'Ann', 'Chris', 'Jane', 'Moose', 'Zero'}\n",
        "```\n",
        "\n",
        "那么："
      ],
      "metadata": {
        "button": false,
        "deletable": true,
        "new_sheet": false,
        "run_control": {
          "read_only": false
        }
      }
    },
    {
      "cell_type": "code",
      "source": [
        "admins = {'Moose', 'Joker', 'Joker'}\n",
        "moderators = {'Ann', 'Chris', 'Jane', 'Moose', 'Zero'}\n",
        "\n",
        "admins                 # 去重自动完成\n",
        "'Joker' in admins      # Joker 是否是 admins？\n",
        "'Joker' in moderators  # Joker 是否是 moderator？\n",
        "admins | moderators    # admins、moderator，或者身兼两职的，即，两个角色中的所有人 in admins or moderators or both\n",
        "admins & moderators    # 既是 admins 又是 moderator 的都有谁？in both admins and moderators\n",
        "admins - moderators    # 是 admins 但不是 moderator 的都有谁？in admins but not in moderators\n",
        "admins ^ moderators    # admins 和 moderator 中不是身兼两职的都有谁？in admins or moderator but not both"
      ],
      "outputs": [
        {
          "output_type": "execute_result",
          "execution_count": 23,
          "data": {
            "text/plain": [
              "{'Joker', 'Moose'}"
            ]
          },
          "metadata": {}
        },
        {
          "output_type": "execute_result",
          "execution_count": 23,
          "data": {
            "text/plain": [
              "True"
            ]
          },
          "metadata": {}
        },
        {
          "output_type": "execute_result",
          "execution_count": 23,
          "data": {
            "text/plain": [
              "False"
            ]
          },
          "metadata": {}
        },
        {
          "output_type": "execute_result",
          "execution_count": 23,
          "data": {
            "text/plain": [
              "{'Ann', 'Chris', 'Jane', 'Joker', 'Moose', 'Zero'}"
            ]
          },
          "metadata": {}
        },
        {
          "output_type": "execute_result",
          "execution_count": 23,
          "data": {
            "text/plain": [
              "{'Moose'}"
            ]
          },
          "metadata": {}
        },
        {
          "output_type": "execute_result",
          "execution_count": 23,
          "data": {
            "text/plain": [
              "{'Joker'}"
            ]
          },
          "metadata": {}
        },
        {
          "output_type": "execute_result",
          "execution_count": 23,
          "data": {
            "text/plain": [
              "{'Ann', 'Chris', 'Jane', 'Joker', 'Zero'}"
            ]
          },
          "metadata": {}
        }
      ],
      "execution_count": 23,
      "metadata": {
        "button": false,
        "collapsed": false,
        "deletable": true,
        "new_sheet": false,
        "run_control": {
          "read_only": false
        }
      }
    },
    {
      "cell_type": "code",
      "source": [
        "admins={'Moose','Joker','Joker'}\n",
        "moderators={'Ann','Chris','Jane','Moose','Zero'}\n",
        "\n",
        "admins\n",
        "'Joker' in admins\n",
        "'Joker' in moderators\n",
        "admins | moderators\n",
        "admins & moderators\n",
        "admins - moderators\n",
        "admins ^ moderators\n"
      ],
      "outputs": [
        {
          "output_type": "execute_result",
          "execution_count": 26,
          "data": {
            "text/plain": [
              "{'Joker', 'Moose'}"
            ]
          },
          "metadata": {}
        },
        {
          "output_type": "execute_result",
          "execution_count": 26,
          "data": {
            "text/plain": [
              "True"
            ]
          },
          "metadata": {}
        },
        {
          "output_type": "execute_result",
          "execution_count": 26,
          "data": {
            "text/plain": [
              "False"
            ]
          },
          "metadata": {}
        },
        {
          "output_type": "execute_result",
          "execution_count": 26,
          "data": {
            "text/plain": [
              "{'Ann', 'Chris', 'Jane', 'Joker', 'Moose', 'Zero'}"
            ]
          },
          "metadata": {}
        },
        {
          "output_type": "execute_result",
          "execution_count": 26,
          "data": {
            "text/plain": [
              "{'Moose'}"
            ]
          },
          "metadata": {}
        },
        {
          "output_type": "execute_result",
          "execution_count": 26,
          "data": {
            "text/plain": [
              "{'Joker'}"
            ]
          },
          "metadata": {}
        },
        {
          "output_type": "execute_result",
          "execution_count": 26,
          "data": {
            "text/plain": [
              "{'Ann', 'Chris', 'Jane', 'Joker', 'Zero'}"
            ]
          },
          "metadata": {}
        }
      ],
      "execution_count": 26,
      "metadata": {
        "collapsed": true,
        "jupyter": {
          "source_hidden": false,
          "outputs_hidden": false
        },
        "nteract": {
          "transient": {
            "deleting": false
          }
        },
        "execution": {
          "iopub.status.busy": "2020-06-05T01:12:01.755Z",
          "iopub.execute_input": "2020-06-05T01:12:01.775Z",
          "iopub.status.idle": "2020-06-05T01:12:01.880Z",
          "shell.execute_reply": "2020-06-05T01:12:01.900Z"
        }
      }
    },
    {
      "cell_type": "code",
      "source": [
        "# 这个 cell 集合运算图示需要安装 matplotlib 和 matplotlib-venn\n",
        "# !pip install matplotlib\n",
        "# !pip install matplotlib-venn\n",
        "import matplotlib.pyplot as plt\n",
        "from matplotlib_venn import venn2\n",
        "\n",
        "admins = {'Moose', 'Joker', 'Joker'}\n",
        "moderators = {'Ann', 'Chris', 'Jane', 'Moose', 'Zero'}\n",
        "\n",
        "v = venn2(subsets=(admins, moderators), set_labels=('admins', 'moderators'))\n",
        "v.get_label_by_id('11').set_text('\\n'.join(admins & moderators))\n",
        "v.get_label_by_id('10').set_text('\\n'.join(admins - moderators))\n",
        "v.get_label_by_id('01').set_text('\\n'.join(moderators - admins))\n",
        "\n",
        "plt.show()"
      ],
      "outputs": [
        {
          "output_type": "display_data",
          "data": {
            "text/plain": [
              "<Figure size 432x288 with 1 Axes>"
            ],
            "image/png": "[encoded data removed]"
          },
          "metadata": {}
        }
      ],
      "execution_count": 36,
      "metadata": {
        "button": false,
        "collapsed": false,
        "deletable": true,
        "new_sheet": false,
        "run_control": {
          "read_only": false
        },
        "execution": {
          "iopub.status.busy": "2020-06-05T01:12:22.828Z",
          "iopub.execute_input": "2020-06-05T01:12:22.848Z",
          "iopub.status.idle": "2020-06-05T01:12:22.888Z",
          "shell.execute_reply": "2020-06-05T01:12:22.924Z"
        }
      }
    },
    {
      "cell_type": "code",
      "source": [
        "import matplotlib.pyplot as plt\n",
        "from matplotlib_venn import venn2\n",
        "\n",
        "admins={'Moose','Joker','Joker'}\n",
        "moderators={'Ann','Chris','Jane','Moose','Zero'}\n",
        "\n",
        "v=venn2(subsets=(admins,moderators),set_labels=('admins','moderators'))\n",
        "v.get_label_by_id('11').set_text('\\n'.join(admins & moderators))\n",
        "v.get_label_by_id('10').set_text('\\n'.join(admins - moderators))\n",
        "v.get_label_by_id('01').set_text('\\n'.join(moderators - admins))\n",
        "\n",
        "plt.show()"
      ],
      "outputs": [
        {
          "output_type": "display_data",
          "data": {
            "text/plain": [
              "<Figure size 432x288 with 1 Axes>"
            ],
            "image/png": "[encoded data removed]"
          },
          "metadata": {}
        }
      ],
      "execution_count": 37,
      "metadata": {
        "collapsed": true,
        "jupyter": {
          "source_hidden": false,
          "outputs_hidden": false
        },
        "nteract": {
          "transient": {
            "deleting": false
          }
        },
        "execution": {
          "iopub.status.busy": "2020-06-05T01:16:29.413Z",
          "iopub.execute_input": "2020-06-05T01:16:29.431Z",
          "iopub.status.idle": "2020-06-05T01:16:29.470Z",
          "shell.execute_reply": "2020-06-05T01:16:29.510Z"
        }
      }
    },
    {
      "cell_type": "markdown",
      "source": [
        "以上的操作符，都有另外一个版本，即，用 Set 这个类的 Methods 完成。\n",
        "\n",
        "|   意义    | 操作符 | Methods                    | Methods 相当于 |\n",
        "| :------: | :----: | :---------------------: | :--: |\n",
        "| 并集     | <code>&#124;</code>    | `set.union(*others)`         | <code>set &#124; other &#124; ...</code> |\n",
        "| 交集     | `&`    | `set.intersection(*others)` | `set & other & ...` |\n",
        "| 差集     | `-`    | `set.difference(*others)` | `set - other - ...` |\n",
        "| 对称差集 | `^`    | `set.symmetric_difference(other)` | `set ^ other` |\n",
        "\n",
        "注意，并集、交集、差集的 Methods，可以接收多个集合作为参数 `(*other)`，但对称差集 Method 只接收一个参数 `(other)`。\n",
        "\n",
        "对于集合，推荐更多使用 Methods 而不是操作符的主要原因是：更易读 —— 对人来说，因为有意义、有用处的代码终将需要人去维护。"
      ],
      "metadata": {
        "button": false,
        "deletable": true,
        "new_sheet": false,
        "run_control": {
          "read_only": false
        }
      }
    },
    {
      "cell_type": "code",
      "source": [
        "from IPython.core.interactiveshell import InteractiveShell\n",
        "InteractiveShell.ast_node_interactivity = \"all\"\n",
        "\n",
        "admins = {'Moose', 'Joker', 'Joker'}\n",
        "moderators = {'Chris', 'Moose', 'Jane', 'Zero'}\n",
        "\n",
        "admins.union(moderators)\n",
        "admins.intersection(moderators)\n",
        "admins.difference(moderators)\n",
        "admins.symmetric_difference(moderators)"
      ],
      "outputs": [
        {
          "output_type": "execute_result",
          "execution_count": 26,
          "data": {
            "text/plain": [
              "{'Chris', 'Jane', 'Joker', 'Moose', 'Zero'}"
            ]
          },
          "metadata": {}
        },
        {
          "output_type": "execute_result",
          "execution_count": 26,
          "data": {
            "text/plain": [
              "{'Moose'}"
            ]
          },
          "metadata": {}
        },
        {
          "output_type": "execute_result",
          "execution_count": 26,
          "data": {
            "text/plain": [
              "{'Joker'}"
            ]
          },
          "metadata": {}
        },
        {
          "output_type": "execute_result",
          "execution_count": 26,
          "data": {
            "text/plain": [
              "{'Chris', 'Jane', 'Joker', 'Zero'}"
            ]
          },
          "metadata": {}
        }
      ],
      "execution_count": 26,
      "metadata": {
        "button": false,
        "collapsed": false,
        "deletable": true,
        "new_sheet": false,
        "run_control": {
          "read_only": false
        }
      }
    },
    {
      "cell_type": "code",
      "source": [
        "from IPython.core.interactiveshell import InteractiveShell\n",
        "InteractiveShell.ast_node_interactivity = \"all\"\n",
        "\n",
        "admins={'Moose','Joker','Joker'}\n",
        "moderators={'Chris','Moose','Jane','Zero'}\n",
        "\n",
        "admins.union(moderators)\n",
        "admins.intersection(moderators)\n",
        "admins.difference(moderators)\n",
        "admins.symmetric_difference(moderators)"
      ],
      "outputs": [
        {
          "output_type": "execute_result",
          "execution_count": 38,
          "data": {
            "text/plain": [
              "{'Chris', 'Jane', 'Joker', 'Moose', 'Zero'}"
            ]
          },
          "metadata": {}
        },
        {
          "output_type": "execute_result",
          "execution_count": 38,
          "data": {
            "text/plain": [
              "{'Moose'}"
            ]
          },
          "metadata": {}
        },
        {
          "output_type": "execute_result",
          "execution_count": 38,
          "data": {
            "text/plain": [
              "{'Joker'}"
            ]
          },
          "metadata": {}
        },
        {
          "output_type": "execute_result",
          "execution_count": 38,
          "data": {
            "text/plain": [
              "{'Chris', 'Jane', 'Joker', 'Zero'}"
            ]
          },
          "metadata": {}
        }
      ],
      "execution_count": 38,
      "metadata": {
        "collapsed": true,
        "jupyter": {
          "source_hidden": false,
          "outputs_hidden": false
        },
        "nteract": {
          "transient": {
            "deleting": false
          }
        },
        "execution": {
          "iopub.status.busy": "2020-06-05T01:26:03.933Z",
          "iopub.execute_input": "2020-06-05T01:26:03.951Z",
          "iopub.status.idle": "2020-06-05T01:26:04.017Z",
          "shell.execute_reply": "2020-06-05T01:26:04.038Z"
        }
      }
    },
    {
      "cell_type": "markdown",
      "source": [
        "### 逻辑运算"
      ],
      "metadata": {
        "button": false,
        "deletable": true,
        "new_sheet": false,
        "run_control": {
          "read_only": false
        }
      }
    },
    {
      "cell_type": "markdown",
      "source": [
        "两个集合之间可以进行逻辑比较，返回布尔值。\n",
        "\n",
        "**set** `==` **other**\n",
        "> `True`: set 与 other 相同\n",
        "\n",
        "**set** `!=` **other**\n",
        "> `True`: set 与 other 不同\n",
        "\n",
        "**isdisjoint**(_other_)\n",
        "> `True`: set 与 other 非重合；即，`set & other == None`\n",
        "\n",
        "**issubset**(_other_)，**set** `<=` **other**\n",
        "> `True`: set 是 other 的子集\n",
        "\n",
        "**set** `<` **other**\n",
        "> `True`: set 是 other 的真子集，相当于 `set <= other && set != other`\n",
        "\n",
        "**issuperset**(_other_)，**set** `>=` **other**\n",
        "> `True`: set 是 other 的超集\n",
        "\n",
        "**set** `>` **other**\n",
        "> `True`: set 是 other 的真超集，相当于 `set >= other && set != other`"
      ],
      "metadata": {
        "button": false,
        "deletable": true,
        "new_sheet": false,
        "run_control": {
          "read_only": false
        }
      }
    },
    {
      "cell_type": "markdown",
      "source": [
        "### 更新"
      ],
      "metadata": {
        "button": false,
        "deletable": true,
        "new_sheet": false,
        "run_control": {
          "read_only": false
        },
        "toc-hr-collapsed": true
      }
    },
    {
      "cell_type": "markdown",
      "source": [
        "对于集合，有以下更新它自身的 Method："
      ],
      "metadata": {
        "button": false,
        "deletable": true,
        "new_sheet": false,
        "run_control": {
          "read_only": false
        }
      }
    },
    {
      "cell_type": "markdown",
      "source": [
        "**add**(*elem*)\n",
        "> 把 elem 加入集合\n",
        "\n",
        "**remove**(*elem*)\n",
        "> 从集合中删除 elem；如果集合中不包含该 elem，会产生 KeyError 错误。\n",
        "\n",
        "**discard**(*elem*)\n",
        "> 如果该元素存在于集合中，删除它。\n",
        "\n",
        "**pop**(*elem*)\n",
        "> 从集合中删除 elem，并返回 elem 的值，针对空集合做此操作会产生 KeyError 错误。\n",
        "\n",
        "**clear**()\n",
        "从集合中删除所有元素。"
      ],
      "metadata": {
        "button": false,
        "deletable": true,
        "new_sheet": false,
        "run_control": {
          "read_only": false
        }
      }
    },
    {
      "cell_type": "markdown",
      "source": [
        "**set.update**(*_others_)，相当于 `set |= other | ...`\n",
        "> 更新 set, 加入 others 中的所有元素；\n",
        "\n",
        "**set.intersection_update**(*_others_)，相当于 `set &= other & ...`\n",
        "> 更新 set, 保留同时存在于 set 和所有 others 之中的元素；\n",
        "\n",
        "**set.difference_update**(*_others_)，相当于 `set -= other | ...`\n",
        "> 更新 set, 删除所有在 others 中存在的元素；\n",
        "\n",
        "**set.symmetric_difference_update**(_other_)，相当于 `set ^= other`\n",
        "> 更新 set, 只保留存在于 set 或 other 中的元素，但不保留同时存在于 set 和 other 中的元素；**注意**，该 Method *只接收一个参数*。"
      ],
      "metadata": {
        "button": false,
        "deletable": true,
        "new_sheet": false,
        "run_control": {
          "read_only": false
        }
      }
    },
    {
      "cell_type": "markdown",
      "source": [
        "### 冻结集合"
      ],
      "metadata": {
        "button": false,
        "deletable": true,
        "new_sheet": false,
        "run_control": {
          "read_only": false
        }
      }
    },
    {
      "cell_type": "markdown",
      "source": [
        "还有一种集合，叫做冻结集合（Frozen Set），Frozen Set 之于 Set，正如 Tuple 之于 List，前者是不可变容器（Immutable），后者是可变容器（Mutable），无非是为了节省内存使用而设计的类别。\n",
        "\n",
        "有空去看看这个链接就可以了：\n",
        "\n",
        "> https://docs.python.org/3/library/stdtypes.html#frozenset"
      ],
      "metadata": {
        "button": false,
        "deletable": true,
        "new_sheet": false,
        "run_control": {
          "read_only": false
        }
      }
    },
    {
      "cell_type": "markdown",
      "source": [
        "## 字典（Dictionary）"
      ],
      "metadata": {
        "button": false,
        "deletable": true,
        "new_sheet": false,
        "run_control": {
          "read_only": false
        },
        "toc-hr-collapsed": true,
        "toc-nb-collapsed": true
      }
    },
    {
      "cell_type": "markdown",
      "source": [
        "Map 是容器中的单独一类，**映射**（Map）容器。映射容器只有一种，叫做**字典**（Dictionary）。先看一个例子："
      ],
      "metadata": {
        "button": false,
        "deletable": true,
        "new_sheet": false,
        "run_control": {
          "read_only": false
        }
      }
    },
    {
      "cell_type": "code",
      "source": [
        "phonebook = {'ann':6575, 'bob':8982, 'joe':2598, 'zoe':1225}\n",
        "phonebook"
      ],
      "outputs": [],
      "execution_count": null,
      "metadata": {
        "button": false,
        "collapsed": true,
        "deletable": true,
        "new_sheet": false,
        "run_control": {
          "read_only": false
        }
      }
    },
    {
      "cell_type": "markdown",
      "source": [
        "字典里的每个元素，由两部分组成，_key_（键）和 _value_（值），二者由一个冒号连接。\n",
        "\n",
        "比如，`'ann':6575` 这个字典元素，_key_ 是 `'ann'`，_value_ 是 `6575`。\n",
        "\n",
        "字典直接使用 _key_ 作为索引，并映射到与它匹配的 _value_："
      ],
      "metadata": {
        "button": false,
        "deletable": true,
        "new_sheet": false,
        "run_control": {
          "read_only": false
        }
      }
    },
    {
      "cell_type": "code",
      "source": [
        "phonebook = {'ann':6575, 'bob':8982, 'joe':2598, 'zoe':1225}\n",
        "phonebook['bob']"
      ],
      "outputs": [
        {
          "output_type": "execute_result",
          "execution_count": 28,
          "data": {
            "text/plain": [
              "8982"
            ]
          },
          "metadata": {}
        }
      ],
      "execution_count": 28,
      "metadata": {
        "button": false,
        "collapsed": false,
        "deletable": true,
        "new_sheet": false,
        "run_control": {
          "read_only": false
        }
      }
    },
    {
      "cell_type": "markdown",
      "source": [
        "在同一个字典里，_key_ 都是唯一的。当创建字典的时候，如果其中有重复的 _key_ 的话，就跟 Set 那样会 “**自动去重**” —— 保留的是众多重复的 _key_ 中的最后一个 _key:value_（或者说，最后一个 _key:value_ “之前那个 _key_ 的 _value_ 被**更新**了”）。字典这个数据类型之所以叫做 Map（映射），是因为字典里的 _key_ 都映射且只映射一个对应的 _value_。"
      ],
      "metadata": {
        "button": false,
        "deletable": true,
        "new_sheet": false,
        "run_control": {
          "read_only": false
        }
      }
    },
    {
      "cell_type": "code",
      "source": [
        "phonebook = {'ann':6575, 'bob':8982, 'joe':2598, 'zoe':1225, 'ann':6585}\n",
        "phonebook"
      ],
      "outputs": [
        {
          "output_type": "execute_result",
          "execution_count": 29,
          "data": {
            "text/plain": [
              "{'ann': 6585, 'bob': 8982, 'joe': 2598, 'zoe': 1225}"
            ]
          },
          "metadata": {}
        }
      ],
      "execution_count": 29,
      "metadata": {
        "button": false,
        "collapsed": false,
        "deletable": true,
        "new_sheet": false,
        "run_control": {
          "read_only": false
        }
      }
    },
    {
      "cell_type": "code",
      "source": [
        "phonebook={'ann':6575,'bob':8982,'joe':2598,'zoe':1225,'ann':6585}\n",
        "phonebook"
      ],
      "outputs": [
        {
          "output_type": "execute_result",
          "execution_count": 39,
          "data": {
            "text/plain": [
              "{'ann': 6585, 'bob': 8982, 'joe': 2598, 'zoe': 1225}"
            ]
          },
          "metadata": {}
        }
      ],
      "execution_count": 39,
      "metadata": {
        "collapsed": true,
        "jupyter": {
          "source_hidden": false,
          "outputs_hidden": false
        },
        "nteract": {
          "transient": {
            "deleting": false
          }
        },
        "execution": {
          "iopub.status.busy": "2020-06-05T01:47:21.066Z",
          "iopub.execute_input": "2020-06-05T01:47:21.086Z",
          "iopub.status.idle": "2020-06-05T01:47:21.131Z",
          "shell.execute_reply": "2020-06-05T01:47:21.153Z"
        }
      }
    },
    {
      "cell_type": "markdown",
      "source": [
        "在已经了解如何操作列表之后，再去理解字典的操作，其实没什么难度，无非就是字典多了几个 Methods。\n",
        "\n",
        "提蓄一下自己的耐心，把下面的若干行代码都仔细阅读一下，猜一猜输出结果都是什么？"
      ],
      "metadata": {
        "button": false,
        "deletable": true,
        "new_sheet": false,
        "run_control": {
          "read_only": false
        }
      }
    },
    {
      "cell_type": "markdown",
      "source": [
        "### 字典的生成"
      ],
      "metadata": {
        "button": false,
        "deletable": true,
        "new_sheet": false,
        "run_control": {
          "read_only": false
        }
      }
    },
    {
      "cell_type": "code",
      "source": [
        "from IPython.core.interactiveshell import InteractiveShell\n",
        "InteractiveShell.ast_node_interactivity = \"all\"\n",
        "\n",
        "aDict = {}\n",
        "bDict = {'a':1, 'b':2, 'c':3}\n",
        "aDict\n",
        "bDict"
      ],
      "outputs": [
        {
          "output_type": "execute_result",
          "execution_count": 30,
          "data": {
            "text/plain": [
              "{}"
            ]
          },
          "metadata": {}
        },
        {
          "output_type": "execute_result",
          "execution_count": 30,
          "data": {
            "text/plain": [
              "{'a': 1, 'b': 2, 'c': 3}"
            ]
          },
          "metadata": {}
        }
      ],
      "execution_count": 30,
      "metadata": {
        "button": false,
        "collapsed": false,
        "deletable": true,
        "new_sheet": false,
        "run_control": {
          "read_only": false
        }
      }
    },
    {
      "cell_type": "code",
      "source": [
        "from IPython.core.interactiveshell import InteractiveShell\n",
        "InteractiveShell.ast_node_interactivity = \"all\"\n",
        "\n",
        "aDict={}\n",
        "bDict={'a':1,'b':2,'c':3}\n",
        "aDict\n",
        "bDict"
      ],
      "outputs": [
        {
          "output_type": "execute_result",
          "execution_count": 40,
          "data": {
            "text/plain": [
              "{}"
            ]
          },
          "metadata": {}
        },
        {
          "output_type": "execute_result",
          "execution_count": 40,
          "data": {
            "text/plain": [
              "{'a': 1, 'b': 2, 'c': 3}"
            ]
          },
          "metadata": {}
        }
      ],
      "execution_count": 40,
      "metadata": {
        "collapsed": true,
        "jupyter": {
          "source_hidden": false,
          "outputs_hidden": false
        },
        "nteract": {
          "transient": {
            "deleting": false
          }
        },
        "execution": {
          "iopub.status.busy": "2020-06-05T01:49:11.015Z",
          "iopub.execute_input": "2020-06-05T01:49:11.034Z",
          "iopub.status.idle": "2020-06-05T01:49:11.082Z",
          "shell.execute_reply": "2020-06-05T01:49:11.101Z"
        }
      }
    },
    {
      "cell_type": "markdown",
      "source": [
        "### 更新某个元素"
      ],
      "metadata": {
        "button": false,
        "deletable": true,
        "new_sheet": false,
        "run_control": {
          "read_only": false
        }
      }
    },
    {
      "cell_type": "code",
      "source": [
        "from IPython.core.interactiveshell import InteractiveShell\n",
        "InteractiveShell.ast_node_interactivity = \"all\"\n",
        "\n",
        "phonebook1 = {'ann':6575, 'bob':8982, 'joe':2598, 'zoe':1225, 'ann':6585}\n",
        "\n",
        "phonebook1['joe']\n",
        "phonebook1['joe'] = 5802\n",
        "phonebook1\n",
        "phonebook1['joe']"
      ],
      "outputs": [
        {
          "output_type": "execute_result",
          "execution_count": 31,
          "data": {
            "text/plain": [
              "2598"
            ]
          },
          "metadata": {}
        },
        {
          "output_type": "execute_result",
          "execution_count": 31,
          "data": {
            "text/plain": [
              "{'ann': 6585, 'bob': 8982, 'joe': 5802, 'zoe': 1225}"
            ]
          },
          "metadata": {}
        },
        {
          "output_type": "execute_result",
          "execution_count": 31,
          "data": {
            "text/plain": [
              "5802"
            ]
          },
          "metadata": {}
        }
      ],
      "execution_count": 31,
      "metadata": {
        "button": false,
        "collapsed": false,
        "deletable": true,
        "new_sheet": false,
        "run_control": {
          "read_only": false
        }
      }
    },
    {
      "cell_type": "code",
      "source": [
        "from IPython.core.interactiveshell import InteractiveShell\n",
        "InteractiveShell.ast_node_interactivity = \"all\"\n",
        "\n",
        "phonebook1={'ann':6575,'bob':8982,'joe':2598,'zoe':1225,'ann':6585}\n",
        "\n",
        "phonebook1['joe']\n",
        "phonebook1['joe']=5802\n",
        "phonebook1\n",
        "phonebook1['joe']"
      ],
      "outputs": [
        {
          "output_type": "execute_result",
          "execution_count": 42,
          "data": {
            "text/plain": [
              "2598"
            ]
          },
          "metadata": {}
        },
        {
          "output_type": "execute_result",
          "execution_count": 42,
          "data": {
            "text/plain": [
              "{'ann': 6585, 'bob': 8982, 'joe': 5802, 'zoe': 1225}"
            ]
          },
          "metadata": {}
        },
        {
          "output_type": "execute_result",
          "execution_count": 42,
          "data": {
            "text/plain": [
              "5802"
            ]
          },
          "metadata": {}
        }
      ],
      "execution_count": 42,
      "metadata": {
        "collapsed": true,
        "jupyter": {
          "source_hidden": false,
          "outputs_hidden": false
        },
        "nteract": {
          "transient": {
            "deleting": false
          }
        },
        "execution": {
          "iopub.status.busy": "2020-06-05T01:51:37.789Z",
          "iopub.execute_input": "2020-06-05T01:51:37.810Z",
          "iopub.status.idle": "2020-06-05T01:51:37.874Z",
          "shell.execute_reply": "2020-06-05T01:51:37.893Z"
        }
      }
    },
    {
      "cell_type": "markdown",
      "source": [
        "### 添加元素"
      ],
      "metadata": {
        "button": false,
        "deletable": true,
        "new_sheet": false,
        "run_control": {
          "read_only": false
        }
      }
    },
    {
      "cell_type": "code",
      "source": [
        "from IPython.core.interactiveshell import InteractiveShell\n",
        "InteractiveShell.ast_node_interactivity = \"all\"\n",
        "\n",
        "phonebook1 = {'ann':6575, 'bob':8982, 'joe':2598, 'zoe':1225, 'ann':6585}\n",
        "phonebook2 = {'john':9876, 'mike':5603, 'stan':6898, 'eric':7898}\n",
        "\n",
        "phonebook1.update(phonebook2)\n",
        "phonebook1"
      ],
      "outputs": [
        {
          "output_type": "execute_result",
          "execution_count": 32,
          "data": {
            "text/plain": [
              "{'ann': 6585,\n",
              " 'bob': 8982,\n",
              " 'joe': 2598,\n",
              " 'zoe': 1225,\n",
              " 'john': 9876,\n",
              " 'mike': 5603,\n",
              " 'stan': 6898,\n",
              " 'eric': 7898}"
            ]
          },
          "metadata": {}
        }
      ],
      "execution_count": 32,
      "metadata": {
        "button": false,
        "collapsed": false,
        "deletable": true,
        "new_sheet": false,
        "run_control": {
          "read_only": false
        }
      }
    },
    {
      "cell_type": "code",
      "source": [
        "from IPython.core.interactiveshell import InteractiveShell\n",
        "InteractiveShell.ast_node_interactivity = \"all\"\n",
        "\n",
        "phonebook1={'ann':6575,'bob':8982,'joe':2598,'zoe':1225,'ann':6585}\n",
        "phonebook2={'john':9876,'mike':5603,'stan':6898,'eric':7898}\n",
        "\n",
        "phonebook1.update(phonebook2)\n",
        "phonebook1"
      ],
      "outputs": [
        {
          "output_type": "execute_result",
          "execution_count": 44,
          "data": {
            "text/plain": [
              "{'ann': 6585,\n",
              " 'bob': 8982,\n",
              " 'joe': 2598,\n",
              " 'zoe': 1225,\n",
              " 'john': 9876,\n",
              " 'mike': 5603,\n",
              " 'stan': 6898,\n",
              " 'eric': 7898}"
            ]
          },
          "metadata": {}
        }
      ],
      "execution_count": 44,
      "metadata": {
        "collapsed": true,
        "jupyter": {
          "source_hidden": false,
          "outputs_hidden": false
        },
        "nteract": {
          "transient": {
            "deleting": false
          }
        },
        "execution": {
          "iopub.status.busy": "2020-06-05T01:54:54.904Z",
          "iopub.execute_input": "2020-06-05T01:54:54.924Z",
          "iopub.status.idle": "2020-06-05T01:54:54.964Z",
          "shell.execute_reply": "2020-06-05T01:54:54.984Z"
        }
      }
    },
    {
      "cell_type": "markdown",
      "source": [
        "### 删除某个元素"
      ],
      "metadata": {
        "button": false,
        "deletable": true,
        "new_sheet": false,
        "run_control": {
          "read_only": false
        }
      }
    },
    {
      "cell_type": "code",
      "source": [
        "from IPython.core.interactiveshell import InteractiveShell\n",
        "InteractiveShell.ast_node_interactivity = \"all\"\n",
        "\n",
        "phonebook1 = {'ann':6575, 'bob':8982, 'joe':2598, 'zoe':1225, 'ann':6585}\n",
        "\n",
        "del phonebook1['ann']\n",
        "phonebook1"
      ],
      "outputs": [
        {
          "output_type": "execute_result",
          "execution_count": 33,
          "data": {
            "text/plain": [
              "{'bob': 8982, 'joe': 2598, 'zoe': 1225}"
            ]
          },
          "metadata": {}
        }
      ],
      "execution_count": 33,
      "metadata": {
        "button": false,
        "collapsed": false,
        "deletable": true,
        "new_sheet": false,
        "run_control": {
          "read_only": false
        }
      }
    },
    {
      "cell_type": "code",
      "source": [
        "from IPython.core.interactiveshell import InteractiveShell\n",
        "InteractiveShell.ast_node_interactivity = \"all\"\n",
        "\n",
        "phonebook1={'ann':6575,'bob':8982,'joe':2598,'zoe':1225,'ann':6585}\n",
        "\n",
        "del phonebook1['ann']\n",
        "phonebook1"
      ],
      "outputs": [
        {
          "output_type": "execute_result",
          "execution_count": 53,
          "data": {
            "text/plain": [
              "{'bob': 8982, 'joe': 2598, 'zoe': 1225}"
            ]
          },
          "metadata": {}
        }
      ],
      "execution_count": 53,
      "metadata": {
        "collapsed": true,
        "jupyter": {
          "source_hidden": false,
          "outputs_hidden": false
        },
        "nteract": {
          "transient": {
            "deleting": false
          }
        },
        "execution": {
          "iopub.status.busy": "2020-06-05T01:57:49.659Z",
          "iopub.execute_input": "2020-06-05T01:57:49.679Z",
          "iopub.status.idle": "2020-06-05T01:57:49.718Z",
          "shell.execute_reply": "2020-06-05T01:57:49.738Z"
        }
      }
    },
    {
      "cell_type": "markdown",
      "source": [
        "### 逻辑操作符"
      ],
      "metadata": {
        "button": false,
        "deletable": true,
        "new_sheet": false,
        "run_control": {
          "read_only": false
        }
      }
    },
    {
      "cell_type": "code",
      "source": [
        "phonebook1 = {'ann':6575, 'bob':8982, 'joe':2598, 'zoe':1225, 'ann':6585}\n",
        "\n",
        "'ann' in phonebook1\n",
        "\n",
        "phonebook1.keys()\n",
        "'stan' in phonebook1.keys()\n",
        "\n",
        "phonebook1.values()\n",
        "1225 in phonebook1.values()\n",
        "\n",
        "phonebook1.items()\n",
        "('stan', 6898) in phonebook1.items()"
      ],
      "outputs": [
        {
          "output_type": "execute_result",
          "execution_count": 34,
          "data": {
            "text/plain": [
              "True"
            ]
          },
          "metadata": {}
        },
        {
          "output_type": "execute_result",
          "execution_count": 34,
          "data": {
            "text/plain": [
              "dict_keys(['ann', 'bob', 'joe', 'zoe'])"
            ]
          },
          "metadata": {}
        },
        {
          "output_type": "execute_result",
          "execution_count": 34,
          "data": {
            "text/plain": [
              "False"
            ]
          },
          "metadata": {}
        },
        {
          "output_type": "execute_result",
          "execution_count": 34,
          "data": {
            "text/plain": [
              "dict_values([6585, 8982, 2598, 1225])"
            ]
          },
          "metadata": {}
        },
        {
          "output_type": "execute_result",
          "execution_count": 34,
          "data": {
            "text/plain": [
              "True"
            ]
          },
          "metadata": {}
        },
        {
          "output_type": "execute_result",
          "execution_count": 34,
          "data": {
            "text/plain": [
              "dict_items([('ann', 6585), ('bob', 8982), ('joe', 2598), ('zoe', 1225)])"
            ]
          },
          "metadata": {}
        },
        {
          "output_type": "execute_result",
          "execution_count": 34,
          "data": {
            "text/plain": [
              "False"
            ]
          },
          "metadata": {}
        }
      ],
      "execution_count": 34,
      "metadata": {
        "button": false,
        "collapsed": false,
        "deletable": true,
        "new_sheet": false,
        "run_control": {
          "read_only": false
        }
      }
    },
    {
      "cell_type": "code",
      "source": [
        "phonebook1={'ann':6575,'bob':8982,'joe':2598,'zoe':1225,'ann':6585}\n",
        "'ann' in phonebook1\n",
        "phonebook1.keys()\n",
        "'stan' in phonebook1.keys()\n",
        "\n",
        "phonebook1.values()\n",
        "1225 in phonebook1.values()\n",
        "\n",
        "phonebook.items()\n",
        "('stan',6898) in phonebook1.items()"
      ],
      "outputs": [
        {
          "output_type": "execute_result",
          "execution_count": 54,
          "data": {
            "text/plain": [
              "True"
            ]
          },
          "metadata": {}
        },
        {
          "output_type": "execute_result",
          "execution_count": 54,
          "data": {
            "text/plain": [
              "dict_keys(['ann', 'bob', 'joe', 'zoe'])"
            ]
          },
          "metadata": {}
        },
        {
          "output_type": "execute_result",
          "execution_count": 54,
          "data": {
            "text/plain": [
              "False"
            ]
          },
          "metadata": {}
        },
        {
          "output_type": "execute_result",
          "execution_count": 54,
          "data": {
            "text/plain": [
              "dict_values([6585, 8982, 2598, 1225])"
            ]
          },
          "metadata": {}
        },
        {
          "output_type": "execute_result",
          "execution_count": 54,
          "data": {
            "text/plain": [
              "True"
            ]
          },
          "metadata": {}
        },
        {
          "output_type": "execute_result",
          "execution_count": 54,
          "data": {
            "text/plain": [
              "dict_items([('bob', 8982), ('joe', 2598), ('zoe', 1225)])"
            ]
          },
          "metadata": {}
        },
        {
          "output_type": "execute_result",
          "execution_count": 54,
          "data": {
            "text/plain": [
              "False"
            ]
          },
          "metadata": {}
        }
      ],
      "execution_count": 54,
      "metadata": {
        "collapsed": true,
        "jupyter": {
          "source_hidden": false,
          "outputs_hidden": false
        },
        "nteract": {
          "transient": {
            "deleting": false
          }
        },
        "execution": {
          "iopub.status.busy": "2020-06-05T02:08:33.094Z",
          "iopub.execute_input": "2020-06-05T02:08:33.113Z",
          "iopub.status.idle": "2020-06-05T02:08:33.222Z",
          "shell.execute_reply": "2020-06-05T02:08:33.244Z"
        }
      }
    },
    {
      "cell_type": "markdown",
      "source": [
        "### 可用来操作的内建函数"
      ],
      "metadata": {
        "button": false,
        "deletable": true,
        "new_sheet": false,
        "run_control": {
          "read_only": false
        }
      }
    },
    {
      "cell_type": "code",
      "source": [
        "from IPython.core.interactiveshell import InteractiveShell\n",
        "InteractiveShell.ast_node_interactivity = \"all\"\n",
        "\n",
        "phonebook1 = {'ann':6575, 'bob':8982, 'joe':2598, 'zoe':1225, 'ann':6585}\n",
        "phonebook2 = {'john':9876, 'mike':5603, 'stan':6898, 'eric':7898}\n",
        "phonebook1.update(phonebook2)\n",
        "\n",
        "len(phonebook1)\n",
        "max(phonebook1)\n",
        "min(phonebook1)\n",
        "list(phonebook1)\n",
        "tuple(phonebook1)\n",
        "set(phonebook1)\n",
        "sorted(phonebook1)\n",
        "sorted(phonebook1, reverse=True)"
      ],
      "outputs": [
        {
          "output_type": "execute_result",
          "execution_count": 35,
          "data": {
            "text/plain": [
              "8"
            ]
          },
          "metadata": {}
        },
        {
          "output_type": "execute_result",
          "execution_count": 35,
          "data": {
            "text/plain": [
              "'zoe'"
            ]
          },
          "metadata": {}
        },
        {
          "output_type": "execute_result",
          "execution_count": 35,
          "data": {
            "text/plain": [
              "'ann'"
            ]
          },
          "metadata": {}
        },
        {
          "output_type": "execute_result",
          "execution_count": 35,
          "data": {
            "text/plain": [
              "['ann', 'bob', 'joe', 'zoe', 'john', 'mike', 'stan', 'eric']"
            ]
          },
          "metadata": {}
        },
        {
          "output_type": "execute_result",
          "execution_count": 35,
          "data": {
            "text/plain": [
              "('ann', 'bob', 'joe', 'zoe', 'john', 'mike', 'stan', 'eric')"
            ]
          },
          "metadata": {}
        },
        {
          "output_type": "execute_result",
          "execution_count": 35,
          "data": {
            "text/plain": [
              "{'ann', 'bob', 'eric', 'joe', 'john', 'mike', 'stan', 'zoe'}"
            ]
          },
          "metadata": {}
        },
        {
          "output_type": "execute_result",
          "execution_count": 35,
          "data": {
            "text/plain": [
              "['ann', 'bob', 'eric', 'joe', 'john', 'mike', 'stan', 'zoe']"
            ]
          },
          "metadata": {}
        },
        {
          "output_type": "execute_result",
          "execution_count": 35,
          "data": {
            "text/plain": [
              "['zoe', 'stan', 'mike', 'john', 'joe', 'eric', 'bob', 'ann']"
            ]
          },
          "metadata": {}
        }
      ],
      "execution_count": 35,
      "metadata": {
        "button": false,
        "collapsed": false,
        "deletable": true,
        "new_sheet": false,
        "run_control": {
          "read_only": false
        }
      }
    },
    {
      "cell_type": "code",
      "source": [
        "from IPython.core.interactiveshell import InteractiveShell\n",
        "InteractiveShell.ast_node_interactivity = \"all\"\n",
        "\n",
        "phonebook1 = {'ann':6575, 'bob':8982, 'joe':2598, 'zoe':1225, 'ann':6585}\n",
        "phonebook2 = {'john':9876, 'mike':5603, 'stan':6898, 'eric':7898}\n",
        "phonebook1.update(phonebook2)\n",
        "\n",
        "len(phonebook1)\n",
        "max(phonebook1)\n",
        "min(phonebook1)\n",
        "list(phonebook1)\n",
        "tuple(phonebook1)\n",
        "set(phonebook1)\n",
        "sorted(phonebook1)\n",
        "sorted(phonebook1,reverse=True)"
      ],
      "outputs": [
        {
          "output_type": "execute_result",
          "execution_count": 55,
          "data": {
            "text/plain": [
              "8"
            ]
          },
          "metadata": {}
        },
        {
          "output_type": "execute_result",
          "execution_count": 55,
          "data": {
            "text/plain": [
              "'zoe'"
            ]
          },
          "metadata": {}
        },
        {
          "output_type": "execute_result",
          "execution_count": 55,
          "data": {
            "text/plain": [
              "'ann'"
            ]
          },
          "metadata": {}
        },
        {
          "output_type": "execute_result",
          "execution_count": 55,
          "data": {
            "text/plain": [
              "['ann', 'bob', 'joe', 'zoe', 'john', 'mike', 'stan', 'eric']"
            ]
          },
          "metadata": {}
        },
        {
          "output_type": "execute_result",
          "execution_count": 55,
          "data": {
            "text/plain": [
              "('ann', 'bob', 'joe', 'zoe', 'john', 'mike', 'stan', 'eric')"
            ]
          },
          "metadata": {}
        },
        {
          "output_type": "execute_result",
          "execution_count": 55,
          "data": {
            "text/plain": [
              "{'ann', 'bob', 'eric', 'joe', 'john', 'mike', 'stan', 'zoe'}"
            ]
          },
          "metadata": {}
        },
        {
          "output_type": "execute_result",
          "execution_count": 55,
          "data": {
            "text/plain": [
              "['ann', 'bob', 'eric', 'joe', 'john', 'mike', 'stan', 'zoe']"
            ]
          },
          "metadata": {}
        },
        {
          "output_type": "execute_result",
          "execution_count": 55,
          "data": {
            "text/plain": [
              "['zoe', 'stan', 'mike', 'john', 'joe', 'eric', 'bob', 'ann']"
            ]
          },
          "metadata": {}
        }
      ],
      "execution_count": 55,
      "metadata": {
        "collapsed": true,
        "jupyter": {
          "source_hidden": false,
          "outputs_hidden": false
        },
        "nteract": {
          "transient": {
            "deleting": false
          }
        },
        "execution": {
          "iopub.status.busy": "2020-06-05T02:11:16.755Z",
          "iopub.execute_input": "2020-06-05T02:11:16.775Z",
          "iopub.status.idle": "2020-06-05T02:11:16.887Z",
          "shell.execute_reply": "2020-06-05T02:11:16.907Z"
        }
      }
    },
    {
      "cell_type": "markdown",
      "source": [
        "### 常用 Methods"
      ],
      "metadata": {
        "button": false,
        "deletable": true,
        "new_sheet": false,
        "run_control": {
          "read_only": false
        }
      }
    },
    {
      "cell_type": "code",
      "source": [
        "from IPython.core.interactiveshell import InteractiveShell\n",
        "InteractiveShell.ast_node_interactivity = \"all\"\n",
        "\n",
        "phonebook1 = {'ann':6575, 'bob':8982, 'joe':2598, 'zoe':1225, 'ann':6585}\n",
        "phonebook2 = {'john':9876, 'mike':5603, 'stan':6898, 'eric':7898}\n",
        "\n",
        "phonebook3 = phonebook2.copy()\n",
        "phonebook3\n",
        "\n",
        "phonebook3.clear()\n",
        "phonebook3\n",
        "\n",
        "phonebook2                      # .copy() 的 “原件” 不会发生变化\n",
        "\n",
        "p = phonebook1.popitem()\n",
        "p\n",
        "phonebook1\n",
        "\n",
        "p = phonebook1.pop('adam', 3538)\n",
        "p\n",
        "phonebook1\n",
        "\n",
        "p = phonebook1.get('adam', 3538)\n",
        "p\n",
        "phonebook1\n",
        "\n",
        "p = phonebook1.setdefault('adam', 3538)\n",
        "p\n",
        "phonebook1"
      ],
      "outputs": [
        {
          "output_type": "execute_result",
          "execution_count": 36,
          "data": {
            "text/plain": [
              "{'john': 9876, 'mike': 5603, 'stan': 6898, 'eric': 7898}"
            ]
          },
          "metadata": {}
        },
        {
          "output_type": "execute_result",
          "execution_count": 36,
          "data": {
            "text/plain": [
              "{}"
            ]
          },
          "metadata": {}
        },
        {
          "output_type": "execute_result",
          "execution_count": 36,
          "data": {
            "text/plain": [
              "{'john': 9876, 'mike': 5603, 'stan': 6898, 'eric': 7898}"
            ]
          },
          "metadata": {}
        },
        {
          "output_type": "execute_result",
          "execution_count": 36,
          "data": {
            "text/plain": [
              "('zoe', 1225)"
            ]
          },
          "metadata": {}
        },
        {
          "output_type": "execute_result",
          "execution_count": 36,
          "data": {
            "text/plain": [
              "{'ann': 6585, 'bob': 8982, 'joe': 2598}"
            ]
          },
          "metadata": {}
        },
        {
          "output_type": "execute_result",
          "execution_count": 36,
          "data": {
            "text/plain": [
              "3538"
            ]
          },
          "metadata": {}
        },
        {
          "output_type": "execute_result",
          "execution_count": 36,
          "data": {
            "text/plain": [
              "{'ann': 6585, 'bob': 8982, 'joe': 2598}"
            ]
          },
          "metadata": {}
        },
        {
          "output_type": "execute_result",
          "execution_count": 36,
          "data": {
            "text/plain": [
              "3538"
            ]
          },
          "metadata": {}
        },
        {
          "output_type": "execute_result",
          "execution_count": 36,
          "data": {
            "text/plain": [
              "{'ann': 6585, 'bob': 8982, 'joe': 2598}"
            ]
          },
          "metadata": {}
        },
        {
          "output_type": "execute_result",
          "execution_count": 36,
          "data": {
            "text/plain": [
              "3538"
            ]
          },
          "metadata": {}
        },
        {
          "output_type": "execute_result",
          "execution_count": 36,
          "data": {
            "text/plain": [
              "{'ann': 6585, 'bob': 8982, 'joe': 2598, 'adam': 3538}"
            ]
          },
          "metadata": {}
        }
      ],
      "execution_count": 36,
      "metadata": {
        "button": false,
        "collapsed": false,
        "deletable": true,
        "new_sheet": false,
        "run_control": {
          "read_only": false
        }
      }
    },
    {
      "cell_type": "code",
      "source": [
        "from IPython.core.interactiveshell import InteractiveShell\n",
        "InteractiveShell.ast_node_interactivity = \"all\"\n",
        "phonebook1 = {'ann':6575, 'bob':8982, 'joe':2598, 'zoe':1225, 'ann':6585}\n",
        "phonebook2 = {'john':9876, 'mike':5603, 'stan':6898, 'eric':7898}\n",
        "\n",
        "phonebook3=phonebook2.copy()\n",
        "phonebook3\n",
        "\n",
        "phonebook3.clear()\n",
        "phonebook3\n",
        "\n",
        "phonebook2\n",
        "\n",
        "p=phonebook1.popitem()\n",
        "p\n",
        "phonebook1\n",
        "\n",
        "p=phonebook1.pop('adam',3538)\n",
        "p\n",
        "phonebook1\n",
        "\n",
        "p=phonebook1.get('adam',3538)\n",
        "p\n",
        "phonebook1\n",
        "\n",
        "p=phonebook1.setdefault('adam',3538)\n",
        "p\n",
        "phonebook1"
      ],
      "outputs": [
        {
          "output_type": "execute_result",
          "execution_count": 64,
          "data": {
            "text/plain": [
              "{'john': 9876, 'mike': 5603, 'stan': 6898, 'eric': 7898}"
            ]
          },
          "metadata": {}
        },
        {
          "output_type": "execute_result",
          "execution_count": 64,
          "data": {
            "text/plain": [
              "{}"
            ]
          },
          "metadata": {}
        },
        {
          "output_type": "execute_result",
          "execution_count": 64,
          "data": {
            "text/plain": [
              "{'john': 9876, 'mike': 5603, 'stan': 6898, 'eric': 7898}"
            ]
          },
          "metadata": {}
        },
        {
          "output_type": "execute_result",
          "execution_count": 64,
          "data": {
            "text/plain": [
              "('zoe', 1225)"
            ]
          },
          "metadata": {}
        },
        {
          "output_type": "execute_result",
          "execution_count": 64,
          "data": {
            "text/plain": [
              "{'ann': 6585, 'bob': 8982, 'joe': 2598}"
            ]
          },
          "metadata": {}
        },
        {
          "output_type": "execute_result",
          "execution_count": 64,
          "data": {
            "text/plain": [
              "3538"
            ]
          },
          "metadata": {}
        },
        {
          "output_type": "execute_result",
          "execution_count": 64,
          "data": {
            "text/plain": [
              "{'ann': 6585, 'bob': 8982, 'joe': 2598}"
            ]
          },
          "metadata": {}
        },
        {
          "output_type": "execute_result",
          "execution_count": 64,
          "data": {
            "text/plain": [
              "3538"
            ]
          },
          "metadata": {}
        },
        {
          "output_type": "execute_result",
          "execution_count": 64,
          "data": {
            "text/plain": [
              "{'ann': 6585, 'bob': 8982, 'joe': 2598}"
            ]
          },
          "metadata": {}
        },
        {
          "output_type": "execute_result",
          "execution_count": 64,
          "data": {
            "text/plain": [
              "3538"
            ]
          },
          "metadata": {}
        },
        {
          "output_type": "execute_result",
          "execution_count": 64,
          "data": {
            "text/plain": [
              "{'ann': 6585, 'bob': 8982, 'joe': 2598, 'adam': 3538}"
            ]
          },
          "metadata": {}
        }
      ],
      "execution_count": 64,
      "metadata": {
        "collapsed": true,
        "jupyter": {
          "source_hidden": false,
          "outputs_hidden": false
        },
        "nteract": {
          "transient": {
            "deleting": false
          }
        },
        "execution": {
          "iopub.status.busy": "2020-06-05T02:16:28.407Z",
          "iopub.execute_input": "2020-06-05T02:16:28.427Z",
          "iopub.status.idle": "2020-06-05T02:16:28.580Z",
          "shell.execute_reply": "2020-06-05T02:16:28.618Z"
        }
      }
    },
    {
      "cell_type": "markdown",
      "source": [
        "## 迭代各种容器中的元素"
      ],
      "metadata": {
        "button": false,
        "deletable": true,
        "new_sheet": false,
        "run_control": {
          "read_only": false
        },
        "toc-hr-collapsed": true,
        "toc-nb-collapsed": true
      }
    },
    {
      "cell_type": "markdown",
      "source": [
        "我们总是有这样的需求：对容器中的元素逐一进行处理（运算）。这样的时候，我们就用 `for` 循环去迭代它们。\n",
        "\n",
        "对于迭代 `range()` 和 `list` 中的元素我们已经很习惯了："
      ],
      "metadata": {
        "button": false,
        "deletable": true,
        "new_sheet": false,
        "run_control": {
          "read_only": false
        }
      }
    },
    {
      "cell_type": "code",
      "source": [
        "for i in range(3):\n",
        "    print(i)"
      ],
      "outputs": [
        {
          "output_type": "stream",
          "name": "stdout",
          "text": [
            "0\n",
            "1\n",
            "2\n"
          ]
        }
      ],
      "execution_count": 37,
      "metadata": {
        "button": false,
        "collapsed": false,
        "deletable": true,
        "new_sheet": false,
        "run_control": {
          "read_only": false
        }
      }
    },
    {
      "cell_type": "code",
      "source": [
        "for i in [1, 2, 3]:\n",
        "    print(i)"
      ],
      "outputs": [
        {
          "output_type": "stream",
          "name": "stdout",
          "text": [
            "1\n",
            "2\n",
            "3\n"
          ]
        }
      ],
      "execution_count": 38,
      "metadata": {
        "button": false,
        "collapsed": false,
        "deletable": true,
        "new_sheet": false,
        "run_control": {
          "read_only": false
        }
      }
    },
    {
      "cell_type": "markdown",
      "source": [
        "### 迭代的同时获取索引"
      ],
      "metadata": {
        "button": false,
        "deletable": true,
        "new_sheet": false,
        "run_control": {
          "read_only": false
        }
      }
    },
    {
      "cell_type": "markdown",
      "source": [
        "有时，我们想同时得到有序容器中的元素及其索引，那么可以调用 `enumerate()` 函数来帮我们："
      ],
      "metadata": {
        "button": false,
        "deletable": true,
        "new_sheet": false,
        "run_control": {
          "read_only": false
        }
      }
    },
    {
      "cell_type": "code",
      "source": [
        "s = 'Python'\n",
        "for i, c in enumerate(s):\n",
        "    print(i, c)\n",
        "    "
      ],
      "outputs": [
        {
          "output_type": "stream",
          "name": "stdout",
          "text": [
            "0 P\n",
            "1 y\n",
            "2 t\n",
            "3 h\n",
            "4 o\n",
            "5 n\n"
          ]
        }
      ],
      "execution_count": 39,
      "metadata": {
        "button": false,
        "collapsed": false,
        "deletable": true,
        "new_sheet": false,
        "run_control": {
          "read_only": false
        }
      }
    },
    {
      "cell_type": "code",
      "source": [
        "s='Pythone'\n",
        "for i,c in enumerate(s):\n",
        "  print(i,c)"
      ],
      "outputs": [
        {
          "output_type": "stream",
          "name": "stdout",
          "text": [
            "0 P\n",
            "1 y\n",
            "2 t\n",
            "3 h\n",
            "4 o\n",
            "5 n\n",
            "6 e\n"
          ]
        }
      ],
      "execution_count": 65,
      "metadata": {
        "collapsed": true,
        "jupyter": {
          "source_hidden": false,
          "outputs_hidden": false
        },
        "nteract": {
          "transient": {
            "deleting": false
          }
        },
        "execution": {
          "iopub.status.busy": "2020-06-05T02:22:00.686Z",
          "iopub.execute_input": "2020-06-05T02:22:00.708Z",
          "iopub.status.idle": "2020-06-05T02:22:00.751Z",
          "shell.execute_reply": "2020-06-05T02:22:00.773Z"
        }
      }
    },
    {
      "cell_type": "code",
      "source": [
        "for i, v in enumerate(range(3)):\n",
        "    print(i, v)"
      ],
      "outputs": [
        {
          "output_type": "stream",
          "name": "stdout",
          "text": [
            "0 0\n",
            "1 1\n",
            "2 2\n"
          ]
        }
      ],
      "execution_count": 40,
      "metadata": {
        "button": false,
        "collapsed": false,
        "deletable": true,
        "new_sheet": false,
        "run_control": {
          "read_only": false
        }
      }
    },
    {
      "cell_type": "code",
      "source": [
        "for i,v in enumerate(range(3)):\n",
        "  print(i,v)"
      ],
      "outputs": [
        {
          "output_type": "stream",
          "name": "stdout",
          "text": [
            "0 0\n",
            "1 1\n",
            "2 2\n"
          ]
        }
      ],
      "execution_count": 66,
      "metadata": {
        "collapsed": true,
        "jupyter": {
          "source_hidden": false,
          "outputs_hidden": false
        },
        "nteract": {
          "transient": {
            "deleting": false
          }
        },
        "execution": {
          "iopub.status.busy": "2020-06-05T02:22:31.751Z",
          "iopub.execute_input": "2020-06-05T02:22:31.773Z",
          "iopub.status.idle": "2020-06-05T02:22:31.814Z",
          "shell.execute_reply": "2020-06-05T02:22:31.836Z"
        }
      }
    },
    {
      "cell_type": "code",
      "source": [
        "L = ['ann', 'bob', 'joe', 'john', 'mike']\n",
        "for i, L in enumerate(L):\n",
        "    print(i, L)"
      ],
      "outputs": [
        {
          "output_type": "stream",
          "name": "stdout",
          "text": [
            "0 ann\n",
            "1 bob\n",
            "2 joe\n",
            "3 john\n",
            "4 mike\n"
          ]
        }
      ],
      "execution_count": 41,
      "metadata": {
        "button": false,
        "collapsed": false,
        "deletable": true,
        "new_sheet": false,
        "run_control": {
          "read_only": false
        }
      }
    },
    {
      "cell_type": "code",
      "source": [
        "L=['ann','bob','joe','john','mike']\n",
        "for i,L in enumerate(L):\n",
        "  print(i,L)"
      ],
      "outputs": [
        {
          "output_type": "stream",
          "name": "stdout",
          "text": [
            "0 ann\n",
            "1 bob\n",
            "2 joe\n",
            "3 john\n",
            "4 mike\n"
          ]
        }
      ],
      "execution_count": 67,
      "metadata": {
        "collapsed": true,
        "jupyter": {
          "source_hidden": false,
          "outputs_hidden": false
        },
        "nteract": {
          "transient": {
            "deleting": false
          }
        },
        "execution": {
          "iopub.status.busy": "2020-06-05T02:23:11.963Z",
          "iopub.execute_input": "2020-06-05T02:23:11.983Z",
          "iopub.status.idle": "2020-06-05T02:23:12.027Z",
          "shell.execute_reply": "2020-06-05T02:23:12.048Z"
        }
      }
    },
    {
      "cell_type": "code",
      "source": [
        "t = ('ann', 'bob', 'joe', 'john', 'mike')\n",
        "for i, t in enumerate(t):\n",
        "    print(i, t)"
      ],
      "outputs": [
        {
          "output_type": "stream",
          "name": "stdout",
          "text": [
            "0 ann\n",
            "1 bob\n",
            "2 joe\n",
            "3 john\n",
            "4 mike\n"
          ]
        }
      ],
      "execution_count": 42,
      "metadata": {
        "button": false,
        "collapsed": false,
        "deletable": true,
        "new_sheet": false,
        "run_control": {
          "read_only": false
        }
      }
    },
    {
      "cell_type": "code",
      "source": [
        "t=('ann','bob','joe','john','mike')\n",
        "for i,t in enumerate(t):\n",
        "  print(i,t)"
      ],
      "outputs": [
        {
          "output_type": "stream",
          "name": "stdout",
          "text": [
            "0 ann\n",
            "1 bob\n",
            "2 joe\n",
            "3 john\n",
            "4 mike\n"
          ]
        }
      ],
      "execution_count": 68,
      "metadata": {
        "collapsed": true,
        "jupyter": {
          "source_hidden": false,
          "outputs_hidden": false
        },
        "nteract": {
          "transient": {
            "deleting": false
          }
        },
        "execution": {
          "iopub.status.busy": "2020-06-05T02:24:55.286Z",
          "iopub.execute_input": "2020-06-05T02:24:55.307Z",
          "iopub.status.idle": "2020-06-05T02:24:55.351Z",
          "shell.execute_reply": "2020-06-05T02:24:55.372Z"
        }
      }
    },
    {
      "cell_type": "markdown",
      "source": [
        "### 迭代前排序"
      ],
      "metadata": {
        "button": false,
        "deletable": true,
        "new_sheet": false,
        "run_control": {
          "read_only": false
        }
      }
    },
    {
      "cell_type": "markdown",
      "source": [
        "可以用 `sorted()` 和 `reversed()` 在迭代前先排好序："
      ],
      "metadata": {
        "button": false,
        "deletable": true,
        "new_sheet": false,
        "run_control": {
          "read_only": false
        }
      }
    },
    {
      "cell_type": "code",
      "source": [
        "t = ('bob', 'ann', 'john', 'mike', 'joe')\n",
        "for i, t in enumerate(sorted(t)):\n",
        "    print(i, t)"
      ],
      "outputs": [
        {
          "output_type": "stream",
          "name": "stdout",
          "text": [
            "0 ann\n",
            "1 bob\n",
            "2 joe\n",
            "3 john\n",
            "4 mike\n"
          ]
        }
      ],
      "execution_count": 43,
      "metadata": {
        "button": false,
        "collapsed": false,
        "deletable": true,
        "new_sheet": false,
        "run_control": {
          "read_only": false
        }
      }
    },
    {
      "cell_type": "code",
      "source": [
        "t=('bob','ann','john','mike','joe')\n",
        "for i,t in enumerate(sorted(t)):\n",
        "  print(i,t)"
      ],
      "outputs": [
        {
          "output_type": "stream",
          "name": "stdout",
          "text": [
            "0 ann\n",
            "1 bob\n",
            "2 joe\n",
            "3 john\n",
            "4 mike\n"
          ]
        }
      ],
      "execution_count": 69,
      "metadata": {
        "collapsed": true,
        "jupyter": {
          "source_hidden": false,
          "outputs_hidden": false
        },
        "nteract": {
          "transient": {
            "deleting": false
          }
        },
        "execution": {
          "iopub.status.busy": "2020-06-05T02:26:41.124Z",
          "iopub.execute_input": "2020-06-05T02:26:41.146Z",
          "iopub.status.idle": "2020-06-05T02:26:41.188Z",
          "shell.execute_reply": "2020-06-05T02:26:41.211Z"
        }
      }
    },
    {
      "cell_type": "code",
      "source": [
        "t = ('bob', 'ann', 'john', 'mike', 'joe')\n",
        "for i, t in enumerate(sorted(t, reverse=True)):\n",
        "    print(i, t)"
      ],
      "outputs": [
        {
          "output_type": "stream",
          "name": "stdout",
          "text": [
            "0 mike\n",
            "1 john\n",
            "2 joe\n",
            "3 bob\n",
            "4 ann\n"
          ]
        }
      ],
      "execution_count": 44,
      "metadata": {
        "button": false,
        "collapsed": false,
        "deletable": true,
        "new_sheet": false,
        "run_control": {
          "read_only": false
        }
      }
    },
    {
      "cell_type": "code",
      "source": [
        "t=('bob','ann','john','mike','joe')\n",
        "for i,t in enumerate(sorted(t,reverse=True)):\n",
        "  print(i,t)"
      ],
      "outputs": [
        {
          "output_type": "stream",
          "name": "stdout",
          "text": [
            "0 mike\n",
            "1 john\n",
            "2 joe\n",
            "3 bob\n",
            "4 ann\n"
          ]
        }
      ],
      "execution_count": 70,
      "metadata": {
        "collapsed": true,
        "jupyter": {
          "source_hidden": false,
          "outputs_hidden": false
        },
        "nteract": {
          "transient": {
            "deleting": false
          }
        },
        "execution": {
          "iopub.status.busy": "2020-06-05T02:27:27.688Z",
          "iopub.execute_input": "2020-06-05T02:27:27.710Z",
          "iopub.status.idle": "2020-06-05T02:27:27.752Z",
          "shell.execute_reply": "2020-06-05T02:27:27.773Z"
        }
      }
    },
    {
      "cell_type": "code",
      "source": [
        "t = ('bob', 'ann', 'john', 'mike', 'joe')\n",
        "for i, t in enumerate(reversed(t)):\n",
        "    print(i, t)"
      ],
      "outputs": [
        {
          "output_type": "stream",
          "name": "stdout",
          "text": [
            "0 joe\n",
            "1 mike\n",
            "2 john\n",
            "3 ann\n",
            "4 bob\n"
          ]
        }
      ],
      "execution_count": 45,
      "metadata": {
        "button": false,
        "collapsed": false,
        "deletable": true,
        "new_sheet": false,
        "run_control": {
          "read_only": false
        }
      }
    },
    {
      "cell_type": "code",
      "source": [
        "t=('bob','ann','john','mike','joe')\n",
        "for i,t in enumerate(reversed(t)):\n",
        "  print(i,t)"
      ],
      "outputs": [
        {
          "output_type": "stream",
          "name": "stdout",
          "text": [
            "0 joe\n",
            "1 mike\n",
            "2 john\n",
            "3 ann\n",
            "4 bob\n"
          ]
        }
      ],
      "execution_count": 71,
      "metadata": {
        "collapsed": true,
        "jupyter": {
          "source_hidden": false,
          "outputs_hidden": false
        },
        "nteract": {
          "transient": {
            "deleting": false
          }
        },
        "execution": {
          "iopub.status.busy": "2020-06-05T02:28:06.079Z",
          "iopub.execute_input": "2020-06-05T02:28:06.103Z",
          "iopub.status.idle": "2020-06-05T02:28:06.152Z",
          "shell.execute_reply": "2020-06-05T02:28:06.174Z"
        }
      }
    },
    {
      "cell_type": "markdown",
      "source": [
        "### 同时迭代多个容器"
      ],
      "metadata": {
        "button": false,
        "deletable": true,
        "new_sheet": false,
        "run_control": {
          "read_only": false
        }
      }
    },
    {
      "cell_type": "markdown",
      "source": [
        "可以在 `zip()` 这个函数的帮助下，同时迭代两个或者两个以上的容器中的元素（这样做的前提是，多个容器中的元素数量最好相同）："
      ],
      "metadata": {
        "button": false,
        "deletable": true,
        "new_sheet": false,
        "run_control": {
          "read_only": false
        }
      }
    },
    {
      "cell_type": "code",
      "source": [
        "chars = 'abcdefghijklmnopqrstuvwxyz'\n",
        "nums = range(1, 27)\n",
        "for c, n in zip(chars, nums):\n",
        "    print(f\"Let's assume {c} represents {n}.\")"
      ],
      "outputs": [
        {
          "output_type": "stream",
          "name": "stdout",
          "text": [
            "Let's assume a represents 1.\n",
            "Let's assume b represents 2.\n",
            "Let's assume c represents 3.\n",
            "Let's assume d represents 4.\n",
            "Let's assume e represents 5.\n",
            "Let's assume f represents 6.\n",
            "Let's assume g represents 7.\n",
            "Let's assume h represents 8.\n",
            "Let's assume i represents 9.\n",
            "Let's assume j represents 10.\n",
            "Let's assume k represents 11.\n",
            "Let's assume l represents 12.\n",
            "Let's assume m represents 13.\n",
            "Let's assume n represents 14.\n",
            "Let's assume o represents 15.\n",
            "Let's assume p represents 16.\n",
            "Let's assume q represents 17.\n",
            "Let's assume r represents 18.\n",
            "Let's assume s represents 19.\n",
            "Let's assume t represents 20.\n",
            "Let's assume u represents 21.\n",
            "Let's assume v represents 22.\n",
            "Let's assume w represents 23.\n",
            "Let's assume x represents 24.\n",
            "Let's assume y represents 25.\n",
            "Let's assume z represents 26.\n"
          ]
        }
      ],
      "execution_count": 46,
      "metadata": {
        "button": false,
        "collapsed": false,
        "deletable": true,
        "new_sheet": false,
        "run_control": {
          "read_only": false
        }
      }
    },
    {
      "cell_type": "code",
      "source": [
        "chars='abcdefghijklmnopqrstuvwxyz'\n",
        "nums=range(1,27)\n",
        "for c,n in zip(chars,nums):\n",
        "  print(f\"Let's assume {c} represents {n}.\")"
      ],
      "outputs": [
        {
          "output_type": "stream",
          "name": "stdout",
          "text": [
            "Let's assume a represents 1.\n",
            "Let's assume b represents 2.\n",
            "Let's assume c represents 3.\n",
            "Let's assume d represents 4.\n",
            "Let's assume e represents 5.\n",
            "Let's assume f represents 6.\n",
            "Let's assume g represents 7.\n",
            "Let's assume h represents 8.\n",
            "Let's assume i represents 9.\n",
            "Let's assume j represents 10.\n",
            "Let's assume k represents 11.\n",
            "Let's assume l represents 12.\n",
            "Let's assume m represents 13.\n",
            "Let's assume n represents 14.\n",
            "Let's assume o represents 15.\n",
            "Let's assume p represents 16.\n",
            "Let's assume q represents 17.\n",
            "Let's assume r represents 18.\n",
            "Let's assume s represents 19.\n",
            "Let's assume t represents 20.\n",
            "Let's assume u represents 21.\n",
            "Let's assume v represents 22.\n",
            "Let's assume w represents 23.\n",
            "Let's assume x represents 24.\n",
            "Let's assume y represents 25.\n",
            "Let's assume z represents 26.\n"
          ]
        }
      ],
      "execution_count": 74,
      "metadata": {
        "collapsed": true,
        "jupyter": {
          "source_hidden": false,
          "outputs_hidden": false
        },
        "nteract": {
          "transient": {
            "deleting": false
          }
        },
        "execution": {
          "iopub.status.busy": "2020-06-05T02:36:27.636Z",
          "iopub.execute_input": "2020-06-05T02:36:27.662Z",
          "iopub.status.idle": "2020-06-05T02:36:27.709Z",
          "shell.execute_reply": "2020-06-05T02:36:27.734Z"
        }
      }
    },
    {
      "cell_type": "markdown",
      "source": [
        "### 迭代字典中的元素"
      ],
      "metadata": {
        "button": false,
        "deletable": true,
        "new_sheet": false,
        "run_control": {
          "read_only": false
        }
      }
    },
    {
      "cell_type": "code",
      "source": [
        "phonebook1 = {'ann':6575, 'bob':8982, 'joe':2598, 'zoe':1225, 'ann':6585}\n",
        "\n",
        "for key in phonebook1:\n",
        "    print(key, phonebook1[key])"
      ],
      "outputs": [
        {
          "output_type": "stream",
          "name": "stdout",
          "text": [
            "ann 6585\n",
            "bob 8982\n",
            "joe 2598\n",
            "zoe 1225\n"
          ]
        }
      ],
      "execution_count": 47,
      "metadata": {
        "button": false,
        "collapsed": false,
        "deletable": true,
        "new_sheet": false,
        "run_control": {
          "read_only": false
        }
      }
    },
    {
      "cell_type": "code",
      "source": [
        "phonebook1={'ann':6575,'bob':8982,'joe':2598,'zoe':1225,'ann':6585}\n",
        "\n",
        "for key in phonebook1:\n",
        "  print(key,phonebook1[key])"
      ],
      "outputs": [
        {
          "output_type": "stream",
          "name": "stdout",
          "text": [
            "ann 6585\n",
            "bob 8982\n",
            "joe 2598\n",
            "zoe 1225\n"
          ]
        }
      ],
      "execution_count": 75,
      "metadata": {
        "collapsed": true,
        "jupyter": {
          "source_hidden": false,
          "outputs_hidden": false
        },
        "nteract": {
          "transient": {
            "deleting": false
          }
        },
        "execution": {
          "iopub.status.busy": "2020-06-05T02:39:20.740Z",
          "iopub.execute_input": "2020-06-05T02:39:20.764Z",
          "iopub.status.idle": "2020-06-05T02:39:20.807Z",
          "shell.execute_reply": "2020-06-05T02:39:20.829Z"
        }
      }
    },
    {
      "cell_type": "code",
      "source": [
        "phonebook1 = {'ann':6575, 'bob':8982, 'joe':2598, 'zoe':1225, 'ann':6585}\n",
        "\n",
        "for key, value in phonebook1.items():\n",
        "    print(key, value)"
      ],
      "outputs": [
        {
          "output_type": "stream",
          "name": "stdout",
          "text": [
            "ann 6585\n",
            "bob 8982\n",
            "joe 2598\n",
            "zoe 1225\n"
          ]
        }
      ],
      "execution_count": 48,
      "metadata": {
        "button": false,
        "collapsed": false,
        "deletable": true,
        "new_sheet": false,
        "run_control": {
          "read_only": false
        }
      }
    },
    {
      "cell_type": "code",
      "source": [
        "phonebook1={'ann':6575,'bob':8982,'joe':2598,'zoe':1225,'ann':6585}\n",
        "for key,value in phonebook1.items():\n",
        "  print(key,value)"
      ],
      "outputs": [
        {
          "output_type": "stream",
          "name": "stdout",
          "text": [
            "ann 6585\n",
            "bob 8982\n",
            "joe 2598\n",
            "zoe 1225\n"
          ]
        }
      ],
      "execution_count": 77,
      "metadata": {
        "collapsed": true,
        "jupyter": {
          "source_hidden": false,
          "outputs_hidden": false
        },
        "nteract": {
          "transient": {
            "deleting": false
          }
        },
        "execution": {
          "iopub.status.busy": "2020-06-05T02:41:00.691Z",
          "iopub.execute_input": "2020-06-05T02:41:00.713Z",
          "iopub.status.idle": "2020-06-05T02:41:00.759Z",
          "shell.execute_reply": "2020-06-05T02:41:00.781Z"
        }
      }
    },
    {
      "cell_type": "markdown",
      "source": [
        "## 总结"
      ],
      "metadata": {
        "button": false,
        "deletable": true,
        "new_sheet": false,
        "run_control": {
          "read_only": false
        }
      }
    },
    {
      "cell_type": "markdown",
      "source": [
        "这一章的内容，只不过是 “多” 而已，一旦逻辑关系理顺，就会觉得很简单。而这一章的开头，已经是最好的总结了。\n",
        "\n",
        "最后需要补充的，只是两个参考链接，以后有什么搞不明白的地方，去那里翻翻就能找到答案：\n",
        "\n",
        "> * https://docs.python.org/3/tutorial/datastructures.html#dictionaries\n",
        "> * https://docs.python.org/3/library/stdtypes.html#typesmapping"
      ],
      "metadata": {
        "button": false,
        "deletable": true,
        "new_sheet": false,
        "run_control": {
          "read_only": false
        }
      }
    }
  ],
  "metadata": {
    "kernelspec": {
      "display_name": "Python 3",
      "language": "python",
      "name": "python3"
    },
    "language_info": {
      "name": "python",
      "version": "3.7.6",
      "mimetype": "text/x-python",
      "codemirror_mode": {
        "name": "ipython",
        "version": 3
      },
      "pygments_lexer": "ipython3",
      "nbconvert_exporter": "python",
      "file_extension": ".py"
    },
    "toc-autonumbering": true,
    "nteract": {
      "version": "0.23.3"
    }
  },
  "nbformat": 4,
  "nbformat_minor": 4
}